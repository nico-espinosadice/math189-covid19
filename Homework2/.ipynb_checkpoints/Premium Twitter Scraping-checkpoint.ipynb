{
 "cells": [
  {
   "cell_type": "markdown",
   "metadata": {},
   "source": [
    "# Homework 2: Twitter COVID Analysis\n",
    "\n"
   ]
  },
  {
   "cell_type": "code",
   "execution_count": 2,
   "metadata": {
    "collapsed": true,
    "scrolled": true
   },
   "outputs": [],
   "source": [
    "import tweepy\n",
    "\n",
    "consumer_key = 'S1QOwgmMt84pjLdjeFpxNmpbR'\n",
    "consumer_secret = 'y30p73bNwA1Mmli97QHgigvVlhWYO2z7TGDu2P0AHQRUXzqQco'\n",
    "access_token_key = '2499751708-8ObSa1Fewik8HzTywvXoBw07kkYUzjU95d8Z6cn'\n",
    "access_token_secret = 'CXqyxlNtzY5rbMrnP6pbYm4bTo7WUVgwLDNb7eRlXOUGk'\n",
    "\n",
    "auth = tweepy.OAuthHandler(consumer_key, consumer_secret)\n",
    "auth.set_access_token(access_token_key, access_token_secret)\n",
    "\n",
    "api = tweepy.API(auth)\n"
   ]
  },
  {
   "cell_type": "code",
   "execution_count": null,
   "metadata": {
    "collapsed": true
   },
   "outputs": [],
   "source": [
    "public_tweets = api.home_timeline()\n",
    "\n",
    "for tweet in public_tweets[:10]:\n",
    "    print(tweet.text)"
   ]
  },
  {
   "cell_type": "code",
   "execution_count": 36,
   "metadata": {
    "collapsed": true
   },
   "outputs": [],
   "source": [
    "text_query = 'COVID -filter:retweets'\n",
    "count= 10\n",
    "\n",
    "\n"
   ]
  },
  {
   "cell_type": "code",
   "execution_count": 43,
   "metadata": {
    "collapsed": true
   },
   "outputs": [],
   "source": [
    "tweets = []\n",
    "for tweet in api.search(q=text_query, count=count, tweet_mode = 'extended', lang = 'en', ):\n",
    "  # Appending chosen tweet data\n",
    "  tweets.append((tweet.created_at, tweet.full_text))"
   ]
  },
  {
   "cell_type": "code",
   "execution_count": 44,
   "metadata": {},
   "outputs": [
    {
     "data": {
      "text/plain": [
       "[(datetime.datetime(2020, 3, 31, 16, 6),\n",
       "  'FY2020 Coronavirus (COVID-19) Awards | Bureau of Primary Health Care https://t.co/FHhcBIFhVq'),\n",
       " (datetime.datetime(2020, 3, 31, 16, 6),\n",
       "  'How are #healthcare #VCs in every sector handling #Covid19?  https://t.co/d86x7gSBAC'),\n",
       " (datetime.datetime(2020, 3, 31, 16, 6),\n",
       "  '@Pycullis @Westworld_host_ @WWinagain @SaraCarterDC @toddstarnes @DeAnna4Congress \"11.591 dead people caused by Covid-19\"\\n\\nonly a low percetage of those have die *because* of covid, most of them have died *with* covid. important difference.'),\n",
       " (datetime.datetime(2020, 3, 31, 16, 6),\n",
       "  \"anti : What's Hot in Digital  Coronavirus live updates: FDA gives anti-malaria drugs emergency approval to treat COVID-19 - ABC News https://t.co/E8a15TK7yw, see more https://t.co/hOkPOP9MBd\"),\n",
       " (datetime.datetime(2020, 3, 31, 16, 6),\n",
       "  'Anyone on Twitter fr Kelowna, or familiar w services that can be obtained in Kelowna, for seniors during COVID-19? No digital training/devices. Just telephone.'),\n",
       " (datetime.datetime(2020, 3, 31, 16, 6),\n",
       "  '@lucille2482 @ChrisCuomo I wish you health. If your symptoms are relatively mild, please read up on what some doctors are reporting about Vitamin C. PLEASE also read about warnings re: ibuprofen &amp; Covid-19 despite Fauci discounting these warnings.'),\n",
       " (datetime.datetime(2020, 3, 31, 16, 6),\n",
       "  '#HandSanitizer #Outbreak #Corona #WashHands #WholesaleSanitizer CDC has travel safety tips amid COVID-19 concerns - https://t.co/7s6VoH8ZWO - #CDCHasTravelSafetyTipsAmidCOVID19Concerns - https://t.co/hOMVHPOyT3'),\n",
       " (datetime.datetime(2020, 3, 31, 16, 6),\n",
       "  'All of the world leaders better hold a Covid-19 announcement tomorrow and begin with \"Syke\"'),\n",
       " (datetime.datetime(2020, 3, 31, 16, 6),\n",
       "  'i won’t know how to live if my parents die from covid i am TERRIFIED'),\n",
       " (datetime.datetime(2020, 3, 31, 16, 6),\n",
       "  '@MrzKhlArt You know they just want to take advantage of this Covid thing and force people to advertise')]"
      ]
     },
     "execution_count": 44,
     "metadata": {},
     "output_type": "execute_result"
    }
   ],
   "source": [
    "tweets"
   ]
  },
  {
   "cell_type": "code",
   "execution_count": 7,
   "metadata": {
    "collapsed": true
   },
   "outputs": [],
   "source": [
    "import GetOldTweets3 as got\n",
    "\n",
    "tweetCriteria = got.manager.TweetCriteria().setQuerySearch('COVID')\\\n",
    "                                           .setSince(\"2020-02-29\")\\\n",
    "                                           .setUntil(\"2020-03-07\")\\\n",
    "                                           .setMaxTweets(20)\n",
    "tweets = got.manager.TweetManager.getTweets(tweetCriteria)\n",
    "\n"
   ]
  },
  {
   "cell_type": "code",
   "execution_count": 15,
   "metadata": {},
   "outputs": [
    {
     "data": {
      "text/plain": [
       "datetime.datetime(2020, 3, 6, 23, 59, 53, tzinfo=datetime.timezone.utc)"
      ]
     },
     "execution_count": 15,
     "metadata": {},
     "output_type": "execute_result"
    }
   ],
   "source": [
    "tweets[5].date\n"
   ]
  },
  {
   "cell_type": "code",
   "execution_count": null,
   "metadata": {
    "collapsed": true
   },
   "outputs": [],
   "source": [
    "'COVID'\n",
    "'corona'\n",
    "'coronavirus'\n",
    "\n",
    "\n",
    "\n",
    "\n",
    "GetOldTweets3 --querysearch \"miss rona\" --lang en --maxtweets 20 --toptweets"
   ]
  },
  {
   "cell_type": "markdown",
   "metadata": {},
   "source": [
    "# Premium Twitter API"
   ]
  },
  {
   "cell_type": "code",
   "execution_count": 3,
   "metadata": {},
   "outputs": [],
   "source": [
    "import yaml\n",
    "\n",
    "consumer_key = 'S1QOwgmMt84pjLdjeFpxNmpbR'\n",
    "consumer_secret = 'y30p73bNwA1Mmli97QHgigvVlhWYO2z7TGDu2P0AHQRUXzqQco'\n",
    "access_token_key = '2499751708-8ObSa1Fewik8HzTywvXoBw07kkYUzjU95d8Z6cn'\n",
    "access_token_secret = 'CXqyxlNtzY5rbMrnP6pbYm4bTo7WUVgwLDNb7eRlXOUGk'\n",
    "\n",
    "config = dict(\n",
    "    search_tweets_api = dict(\n",
    "        account_type = 'premium',\n",
    "        endpoint = 'https://api.twitter.com/1.1/tweets/search/30day/development.json',\n",
    "        consumer_key = consumer_key,\n",
    "        consumer_secret = consumer_secret\n",
    "    )\n",
    ")\n",
    "\n",
    "with open('twitter_keys_30days.yaml', 'w') as config_file:\n",
    "    yaml.dump(config, config_file, default_flow_style=False)"
   ]
  },
  {
   "cell_type": "code",
   "execution_count": 4,
   "metadata": {},
   "outputs": [
    {
     "name": "stderr",
     "output_type": "stream",
     "text": [
      "Grabbing bearer token from OAUTH\n"
     ]
    },
    {
     "name": "stdout",
     "output_type": "stream",
     "text": [
      "{'bearer_token': 'AAAAAAAAAAAAAAAAAAAAAP5LDQEAAAAAZdiPvFNiG8t8qGQt7Ix95fBL0yQ%3DTw6xjLKuA42aSTMy2KY7zoE3UyfSV8ko01zCslDwkjsXzKkL1J', 'endpoint': 'https://api.twitter.com/1.1/tweets/search/30day/development.json', 'extra_headers_dict': None}\n"
     ]
    }
   ],
   "source": [
    "from searchtweets import load_credentials\n",
    "\n",
    "premium_search_args = load_credentials(\"twitter_keys_30days.yaml\",\n",
    "                                      yaml_key='search_tweets_api',\n",
    "                                      env_overwrite=False)\n",
    "\n",
    "print(premium_search_args)\n",
    "\n",
    "# {'bearer_token': 'AAAAAAAAAAAAAAAAAAAAAP5LDQEAAAAAZdiPvFNiG8t8qGQt7Ix95fBL0yQ%3DTw6xjLKuA42aSTMy2KY7zoE3UyfSV8ko01zCslDwkjsXzKkL1J', 'endpoint': 'https://api.twitter.com/1.1/tweets/search/30day/development.json', 'extra_headers_dict': None}"
   ]
  },
  {
   "cell_type": "code",
   "execution_count": 5,
   "metadata": {
    "collapsed": true
   },
   "outputs": [],
   "source": [
    "# 2500 of eacj Jan 31 Feb 20 March 10 March 30\n",
    "\n",
    "from searchtweets import gen_rule_payload\n",
    "\n",
    "rule = gen_rule_payload(\"coronavirus OR corona OR covid -\\\"RT\\\" lang:en\",\n",
    "                        results_per_call=100,\n",
    "                        from_date = \"2020-3-10 00:00\",\n",
    "                        to_date = \"2020-3-10 23:59\"\n",
    "                       )"
   ]
  },
  {
   "cell_type": "code",
   "execution_count": 6,
   "metadata": {},
   "outputs": [
    {
     "name": "stdout",
     "output_type": "stream",
     "text": [
      "ResultStream: \n",
      "\t{\n",
      "    \"username\": null,\n",
      "    \"endpoint\": \"https://api.twitter.com/1.1/tweets/search/30day/development.json\",\n",
      "    \"rule_payload\": {\n",
      "        \"query\": \"coronavirus OR corona OR covid -\\\"RT\\\" lang:en\",\n",
      "        \"maxResults\": 100,\n",
      "        \"toDate\": \"202003102359\",\n",
      "        \"fromDate\": \"202003100000\"\n",
      "    },\n",
      "    \"tweetify\": true,\n",
      "    \"max_results\": 100\n",
      "}\n"
     ]
    }
   ],
   "source": [
    "from searchtweets import ResultStream\n",
    "\n",
    "rs = ResultStream(rule_payload=rule,\n",
    "                 max_results=100,\n",
    "                 **premium_search_args)\n",
    "\n",
    "print(rs)"
   ]
  },
  {
   "cell_type": "code",
   "execution_count": 7,
   "metadata": {},
   "outputs": [
    {
     "name": "stdout",
     "output_type": "stream",
     "text": [
      "10: Tue Mar 10 23:58:59 +0000 2020\n",
      "20: Tue Mar 10 23:58:59 +0000 2020\n",
      "30: Tue Mar 10 23:58:59 +0000 2020\n",
      "40: Tue Mar 10 23:58:59 +0000 2020\n",
      "50: Tue Mar 10 23:58:59 +0000 2020\n",
      "60: Tue Mar 10 23:58:59 +0000 2020\n",
      "70: Tue Mar 10 23:58:59 +0000 2020\n",
      "80: Tue Mar 10 23:58:59 +0000 2020\n",
      "90: Tue Mar 10 23:58:59 +0000 2020\n",
      "100: Tue Mar 10 23:58:59 +0000 2020\n",
      "done\n"
     ]
    }
   ],
   "source": [
    "import json\n",
    "\n",
    "with open('twitter_premium_api_test.jsonl', 'a', encoding='utf-8') as f:\n",
    "    n = 0\n",
    "    for tweet in rs.stream():\n",
    "        n += 1\n",
    "        if n % 10 == 0:\n",
    "            print('{0}: {1}'.format(str(n), tweet['created_at']))\n",
    "        json.dump(tweet, f)\n",
    "        f.write('\\n')\n",
    "print('done')"
   ]
  },
  {
   "cell_type": "code",
   "execution_count": 8,
   "metadata": {
    "collapsed": true
   },
   "outputs": [],
   "source": [
    "import json_lines"
   ]
  },
  {
   "cell_type": "code",
   "execution_count": 9,
   "metadata": {
    "collapsed": true
   },
   "outputs": [],
   "source": [
    "def load_jsonl(file):\n",
    "    tweets = []\n",
    "    with open(file, 'rb') as f:\n",
    "        for tweet in json_lines.reader(f, broken=True):\n",
    "            date = tweet['created_at']\n",
    "            text = ''\n",
    "            if 'truncated' in tweet and tweet['truncated']:\n",
    "                if 'retweeted_status' in tweet:\n",
    "                    if 'extended_tweet' in tweet['retweeted_status']:\n",
    "                        text = tweet['retweeted_status']['extended_tweet']['full_text']\n",
    "                    else:\n",
    "                        #text = tweet['retweeted_status']['text']  \n",
    "                        continue\n",
    "                elif 'quoted_status' in tweet:\n",
    "                    if 'extended_tweet' in tweet['quoted_status']:\n",
    "                        text = tweet['quoted_status']['extended_tweet']['full_text']\n",
    "                    else:\n",
    "                        #text = tweet['quoted_status']['text'] \n",
    "                        continue\n",
    "                elif 'extended_tweet' in tweet:\n",
    "                    text = tweet['extended_tweet']['full_text']\n",
    "                else:\n",
    "                    text = tweet['text']\n",
    "            else:\n",
    "                text = tweet['text']\n",
    "            tweets.append((date,text))\n",
    "    return (tweets)\n",
    "\n",
    "tweets = load_jsonl('twitter_premium_api_test.jsonl')\n",
    "\n",
    "#full_text #created_at"
   ]
  },
  {
   "cell_type": "code",
   "execution_count": 10,
   "metadata": {},
   "outputs": [
    {
     "ename": "AttributeError",
     "evalue": "'tuple' object has no attribute 'keys'",
     "output_type": "error",
     "traceback": [
      "\u001b[0;31m---------------------------------------------------------------------------\u001b[0m",
      "\u001b[0;31mAttributeError\u001b[0m                            Traceback (most recent call last)",
      "\u001b[0;32m<ipython-input-10-534d0f03ead7>\u001b[0m in \u001b[0;36m<module>\u001b[0;34m()\u001b[0m\n\u001b[0;32m----> 1\u001b[0;31m \u001b[0mtweets\u001b[0m\u001b[0;34m[\u001b[0m\u001b[0;36m0\u001b[0m\u001b[0;34m]\u001b[0m\u001b[0;34m.\u001b[0m\u001b[0mkeys\u001b[0m\u001b[0;34m(\u001b[0m\u001b[0;34m)\u001b[0m\u001b[0;34m\u001b[0m\u001b[0;34m\u001b[0m\u001b[0m\n\u001b[0m",
      "\u001b[0;31mAttributeError\u001b[0m: 'tuple' object has no attribute 'keys'"
     ]
    }
   ],
   "source": [
    "tweets[0].keys()"
   ]
  },
  {
   "cell_type": "code",
   "execution_count": 103,
   "metadata": {},
   "outputs": [
    {
     "ename": "TypeError",
     "evalue": "string indices must be integers",
     "output_type": "error",
     "traceback": [
      "\u001b[0;31m---------------------------------------------------------------------------\u001b[0m",
      "\u001b[0;31mTypeError\u001b[0m                                 Traceback (most recent call last)",
      "\u001b[0;32m<ipython-input-103-b736fffb2626>\u001b[0m in \u001b[0;36m<module>\u001b[0;34m()\u001b[0m\n\u001b[1;32m     17\u001b[0m \u001b[0mtweets\u001b[0m\u001b[0;34m\u001b[0m\u001b[0;34m\u001b[0m\u001b[0m\n\u001b[1;32m     18\u001b[0m \u001b[0;34m\u001b[0m\u001b[0m\n\u001b[0;32m---> 19\u001b[0;31m \u001b[0mtweets\u001b[0m\u001b[0;34m[\u001b[0m\u001b[0;36m5\u001b[0m\u001b[0;34m]\u001b[0m\u001b[0;34m[\u001b[0m\u001b[0;36m1\u001b[0m\u001b[0;34m]\u001b[0m\u001b[0;34m[\u001b[0m\u001b[0;34m'quoted_status'\u001b[0m\u001b[0;34m]\u001b[0m\u001b[0;34m[\u001b[0m\u001b[0;34m'extended_tweet'\u001b[0m\u001b[0;34m]\u001b[0m\u001b[0;34m[\u001b[0m\u001b[0;34m'full_text'\u001b[0m\u001b[0;34m]\u001b[0m\u001b[0;34m\u001b[0m\u001b[0;34m\u001b[0m\u001b[0m\n\u001b[0m",
      "\u001b[0;31mTypeError\u001b[0m: string indices must be integers"
     ]
    }
   ],
   "source": [
    "# for i in range(len(tweets)):\n",
    "#     try:\n",
    "#         tweets[i]['quoted_status']\n",
    "#         print(i)\n",
    "#     except Exception:\n",
    "#         continue\n",
    "\n",
    "\n",
    "# for key in tweets[0].keys():\n",
    "#     try: \n",
    "#         tweets[0][key]['extended_tweet']\n",
    "#         print(key)\n",
    "#     except Exception:\n",
    "#         continue\n",
    "\n",
    "\n",
    "tweets\n",
    "\n",
    "tweets[5][1]['quoted_status']['extended_tweet']['full_text']"
   ]
  },
  {
   "cell_type": "code",
   "execution_count": 76,
   "metadata": {},
   "outputs": [
    {
     "ename": "TypeError",
     "evalue": "tuple indices must be integers or slices, not str",
     "output_type": "error",
     "traceback": [
      "\u001b[0;31m---------------------------------------------------------------------------\u001b[0m",
      "\u001b[0;31mTypeError\u001b[0m                                 Traceback (most recent call last)",
      "\u001b[0;32m<ipython-input-76-7c0af5f4bfaa>\u001b[0m in \u001b[0;36m<module>\u001b[0;34m()\u001b[0m\n\u001b[0;32m----> 1\u001b[0;31m \u001b[0mtweets\u001b[0m\u001b[0;34m[\u001b[0m\u001b[0;36m18\u001b[0m\u001b[0;34m]\u001b[0m\u001b[0;34m[\u001b[0m\u001b[0;34m'quoted_status'\u001b[0m\u001b[0;34m]\u001b[0m\u001b[0;34m\u001b[0m\u001b[0;34m\u001b[0m\u001b[0m\n\u001b[0m",
      "\u001b[0;31mTypeError\u001b[0m: tuple indices must be integers or slices, not str"
     ]
    }
   ],
   "source": [
    "tweets[18]['quoted_status']"
   ]
  },
  {
   "cell_type": "code",
   "execution_count": 41,
   "metadata": {},
   "outputs": [
    {
     "data": {
      "text/plain": [
       "True"
      ]
     },
     "execution_count": 41,
     "metadata": {},
     "output_type": "execute_result"
    }
   ],
   "source": [
    "tweets[18]['truncated']"
   ]
  },
  {
   "cell_type": "code",
   "execution_count": null,
   "metadata": {
    "collapsed": true
   },
   "outputs": [],
   "source": []
  }
 ],
 "metadata": {
  "kernelspec": {
   "display_name": "Python 3",
   "language": "python",
   "name": "python3"
  },
  "language_info": {
   "codemirror_mode": {
    "name": "ipython",
    "version": 3
   },
   "file_extension": ".py",
   "mimetype": "text/x-python",
   "name": "python",
   "nbconvert_exporter": "python",
   "pygments_lexer": "ipython3",
   "version": "3.6.9"
  }
 },
 "nbformat": 4,
 "nbformat_minor": 2
}
