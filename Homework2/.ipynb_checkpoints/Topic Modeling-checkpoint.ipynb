{
 "cells": [
  {
   "cell_type": "code",
   "execution_count": 1,
   "metadata": {
    "collapsed": true
   },
   "outputs": [],
   "source": [
    "import pandas as pd"
   ]
  },
  {
   "cell_type": "code",
   "execution_count": 2,
   "metadata": {
    "collapsed": true
   },
   "outputs": [],
   "source": [
    "tweets = pd.read_csv('output_got.csv')"
   ]
  },
  {
   "cell_type": "code",
   "execution_count": 3,
   "metadata": {
    "collapsed": true
   },
   "outputs": [],
   "source": [
    "import pandas as pd\n",
    "import os\n",
    "from sklearn.feature_extraction.text import CountVectorizer\n",
    "from sklearn.decomposition import LatentDirichletAllocation\n",
    "import numpy as np\n",
    "from sklearn.feature_extraction import text"
   ]
  },
  {
   "cell_type": "code",
   "execution_count": 4,
   "metadata": {},
   "outputs": [
    {
     "data": {
      "text/html": [
       "<div>\n",
       "<style>\n",
       "    .dataframe thead tr:only-child th {\n",
       "        text-align: right;\n",
       "    }\n",
       "\n",
       "    .dataframe thead th {\n",
       "        text-align: left;\n",
       "    }\n",
       "\n",
       "    .dataframe tbody tr th {\n",
       "        vertical-align: top;\n",
       "    }\n",
       "</style>\n",
       "<table border=\"1\" class=\"dataframe\">\n",
       "  <thead>\n",
       "    <tr style=\"text-align: right;\">\n",
       "      <th></th>\n",
       "      <th>date</th>\n",
       "      <th>username</th>\n",
       "      <th>to</th>\n",
       "      <th>replies</th>\n",
       "      <th>retweets</th>\n",
       "      <th>favorites</th>\n",
       "      <th>text</th>\n",
       "      <th>geo</th>\n",
       "      <th>mentions</th>\n",
       "      <th>hashtags</th>\n",
       "      <th>id</th>\n",
       "      <th>permalink</th>\n",
       "    </tr>\n",
       "  </thead>\n",
       "  <tbody>\n",
       "    <tr>\n",
       "      <th>0</th>\n",
       "      <td>2020-04-04 14:54:30</td>\n",
       "      <td>CovidExposer</td>\n",
       "      <td>NaN</td>\n",
       "      <td>0</td>\n",
       "      <td>0</td>\n",
       "      <td>0</td>\n",
       "      <td>You can't fight an enemy you can't see. Come o...</td>\n",
       "      <td>NaN</td>\n",
       "      <td>NaN</td>\n",
       "      <td>#Bermuda</td>\n",
       "      <td>1246451081913270272</td>\n",
       "      <td>https://twitter.com/CovidExposer/status/124645...</td>\n",
       "    </tr>\n",
       "    <tr>\n",
       "      <th>1</th>\n",
       "      <td>2020-04-04 14:51:35</td>\n",
       "      <td>CPHO_Canada</td>\n",
       "      <td>NaN</td>\n",
       "      <td>3</td>\n",
       "      <td>20</td>\n",
       "      <td>52</td>\n",
       "      <td>1/8 #Epidemiology 101 on #COVID19 in : We’re a...</td>\n",
       "      <td>NaN</td>\n",
       "      <td>NaN</td>\n",
       "      <td>#Epidemiology #COVID19 #FlattentheCurve #Plank...</td>\n",
       "      <td>1246450346769203200</td>\n",
       "      <td>https://twitter.com/CPHO_Canada/status/1246450...</td>\n",
       "    </tr>\n",
       "    <tr>\n",
       "      <th>2</th>\n",
       "      <td>2020-04-04 14:51:12</td>\n",
       "      <td>atensnut</td>\n",
       "      <td>NaN</td>\n",
       "      <td>10</td>\n",
       "      <td>175</td>\n",
       "      <td>420</td>\n",
       "      <td>We the people are facing COVID-19, an untrustw...</td>\n",
       "      <td>NaN</td>\n",
       "      <td>NaN</td>\n",
       "      <td>#Trump2020Landslide</td>\n",
       "      <td>1246450250598023169</td>\n",
       "      <td>https://twitter.com/atensnut/status/1246450250...</td>\n",
       "    </tr>\n",
       "    <tr>\n",
       "      <th>3</th>\n",
       "      <td>2020-04-04 14:49:35</td>\n",
       "      <td>Corona_Bot__</td>\n",
       "      <td>NaN</td>\n",
       "      <td>7</td>\n",
       "      <td>6</td>\n",
       "      <td>61</td>\n",
       "      <td>BREAKING NEWS: Sam Puckett tests positive for ...</td>\n",
       "      <td>NaN</td>\n",
       "      <td>NaN</td>\n",
       "      <td>NaN</td>\n",
       "      <td>1246449846522908674</td>\n",
       "      <td>https://twitter.com/Corona_Bot__/status/124644...</td>\n",
       "    </tr>\n",
       "    <tr>\n",
       "      <th>4</th>\n",
       "      <td>2020-04-04 14:48:31</td>\n",
       "      <td>sofrehh</td>\n",
       "      <td>NaN</td>\n",
       "      <td>0</td>\n",
       "      <td>0</td>\n",
       "      <td>0</td>\n",
       "      <td>Thank you theindianfoodspy #Repost theindianfo...</td>\n",
       "      <td>NaN</td>\n",
       "      <td>@get_repost</td>\n",
       "      <td>#Repost</td>\n",
       "      <td>1246449577257025536</td>\n",
       "      <td>https://twitter.com/sofrehh/status/12464495772...</td>\n",
       "    </tr>\n",
       "  </tbody>\n",
       "</table>\n",
       "</div>"
      ],
      "text/plain": [
       "                  date      username   to  replies  retweets  favorites  \\\n",
       "0  2020-04-04 14:54:30  CovidExposer  NaN        0         0          0   \n",
       "1  2020-04-04 14:51:35   CPHO_Canada  NaN        3        20         52   \n",
       "2  2020-04-04 14:51:12      atensnut  NaN       10       175        420   \n",
       "3  2020-04-04 14:49:35  Corona_Bot__  NaN        7         6         61   \n",
       "4  2020-04-04 14:48:31       sofrehh  NaN        0         0          0   \n",
       "\n",
       "                                                text  geo     mentions  \\\n",
       "0  You can't fight an enemy you can't see. Come o...  NaN          NaN   \n",
       "1  1/8 #Epidemiology 101 on #COVID19 in : We’re a...  NaN          NaN   \n",
       "2  We the people are facing COVID-19, an untrustw...  NaN          NaN   \n",
       "3  BREAKING NEWS: Sam Puckett tests positive for ...  NaN          NaN   \n",
       "4  Thank you theindianfoodspy #Repost theindianfo...  NaN  @get_repost   \n",
       "\n",
       "                                            hashtags                   id  \\\n",
       "0                                           #Bermuda  1246451081913270272   \n",
       "1  #Epidemiology #COVID19 #FlattentheCurve #Plank...  1246450346769203200   \n",
       "2                                #Trump2020Landslide  1246450250598023169   \n",
       "3                                                NaN  1246449846522908674   \n",
       "4                                            #Repost  1246449577257025536   \n",
       "\n",
       "                                           permalink  \n",
       "0  https://twitter.com/CovidExposer/status/124645...  \n",
       "1  https://twitter.com/CPHO_Canada/status/1246450...  \n",
       "2  https://twitter.com/atensnut/status/1246450250...  \n",
       "3  https://twitter.com/Corona_Bot__/status/124644...  \n",
       "4  https://twitter.com/sofrehh/status/12464495772...  "
      ]
     },
     "execution_count": 4,
     "metadata": {},
     "output_type": "execute_result"
    }
   ],
   "source": [
    "tweets.head()"
   ]
  },
  {
   "cell_type": "code",
   "execution_count": 63,
   "metadata": {},
   "outputs": [],
   "source": [
    "my_stops = text.ENGLISH_STOP_WORDS.union(\n",
    "    ['covid-19','covid19', 'corona', 'cov', 'covid', 'coronavirus', \n",
    "     'pic', '2019', '19', 'illness','http','https','www','com','amp','2020']\n",
    ")\n",
    "\n",
    "vectorizer = CountVectorizer(min_df=5, stop_words=my_stops)\n",
    "counts = vectorizer.fit_transform(tweets.text)\n",
    "\n",
    "as_topics = LatentDirichletAllocation(n_components=5, random_state=0, n_jobs=6).fit(counts)"
   ]
  },
  {
   "cell_type": "code",
   "execution_count": 65,
   "metadata": {},
   "outputs": [
    {
     "data": {
      "text/plain": [
       "604"
      ]
     },
     "execution_count": 65,
     "metadata": {},
     "output_type": "execute_result"
    }
   ],
   "source": [
    "len(vectorizer.vocabulary_)"
   ]
  },
  {
   "cell_type": "code",
   "execution_count": 70,
   "metadata": {},
   "outputs": [
    {
     "data": {
      "text/plain": [
       "array([[30.62474539,  2.30404383, 16.66762079, ...,  7.57670738,\n",
       "        12.19952027, 12.19952027],\n",
       "       [ 0.20031817,  0.20001237,  0.20700911, ...,  0.20059206,\n",
       "         0.20000465,  0.20000465],\n",
       "       [ 0.20136402,  0.20001249,  0.20031911, ...,  0.20106722,\n",
       "         0.20000442,  0.20000442],\n",
       "       [ 2.77088014,  5.09527924,  3.63201352, ...,  2.11924895,\n",
       "         0.20046762,  0.20046762],\n",
       "       [ 0.20269228,  0.20065207,  3.29303747, ...,  0.9023844 ,\n",
       "         0.20000304,  0.20000304]])"
      ]
     },
     "execution_count": 70,
     "metadata": {},
     "output_type": "execute_result"
    }
   ],
   "source": [
    "as_topics.components_"
   ]
  },
  {
   "cell_type": "code",
   "execution_count": 66,
   "metadata": {
    "collapsed": true
   },
   "outputs": [],
   "source": [
    "topic_dists = (as_topics.components_.T / as_topics.components_.sum(axis=1)).T"
   ]
  },
  {
   "cell_type": "code",
   "execution_count": 62,
   "metadata": {
    "scrolled": true
   },
   "outputs": [
    {
     "name": "stdout",
     "output_type": "stream",
     "text": [
      "\n",
      "['health', 'positive', 'just', 'deaths', 'virus', 'cases', '000', 'hospital', 'new', 'april', 'tested', 'died']\n",
      "\n",
      "['fight', 'come', 'let', 'help', 'just', 'isupportlamplighting', 'lamps', 'virus', 'support', 'light', 'activity', 'sidharth_shukla']\n",
      "\n",
      "['fight', 'dr', 'defeat', 'india', 'virus', 'ji', 'like', 'gurmeetramrahim', 'saint', 'meditation', 'defeatcoronawithwillpower', 'power']\n",
      "\n",
      "['community', 'people', 'right', 'twitter', 'virus', 'don', 'know', 'pandemic', 'need', 'trump', 'did', 'kashmirisrjectindianlaws']\n",
      "\n",
      "['help', 'people', 'relief', 'government', 'time', 'nation', 'crisis', 'pakistan', 'pm', 'fund', 'stoppoliticssupportpmik', 'theteampatriots']\n"
     ]
    }
   ],
   "source": [
    "for comp in range(len(topic_dists)):\n",
    "    top_i = np.argsort(topic_dists[comp])[-12:][::-1]\n",
    "    print()\n",
    "    print([key for key, value in vectorizer.vocabulary_.items() if value in top_i])"
   ]
  },
  {
   "cell_type": "markdown",
   "metadata": {},
   "source": [
    "# Plotting Results"
   ]
  },
  {
   "cell_type": "code",
   "execution_count": 73,
   "metadata": {},
   "outputs": [],
   "source": [
    "tweet_topic_dists = as_topics.transform(counts)"
   ]
  },
  {
   "cell_type": "code",
   "execution_count": 96,
   "metadata": {
    "scrolled": true
   },
   "outputs": [],
   "source": [
    "tweet_topic_labels = np.argmax(tweet_topic_dists, axis=1)"
   ]
  },
  {
   "cell_type": "code",
   "execution_count": 79,
   "metadata": {
    "collapsed": true
   },
   "outputs": [],
   "source": [
    "from sklearn.decomposition import PCA"
   ]
  },
  {
   "cell_type": "code",
   "execution_count": 80,
   "metadata": {
    "collapsed": true
   },
   "outputs": [],
   "source": [
    "pca = PCA(n_components=2)"
   ]
  },
  {
   "cell_type": "code",
   "execution_count": 82,
   "metadata": {},
   "outputs": [],
   "source": [
    "reduced_data = pca.fit_transform(tweet_topic_dists)"
   ]
  },
  {
   "cell_type": "code",
   "execution_count": 83,
   "metadata": {},
   "outputs": [
    {
     "data": {
      "text/plain": [
       "(1000, 2)"
      ]
     },
     "execution_count": 83,
     "metadata": {},
     "output_type": "execute_result"
    }
   ],
   "source": [
    "reduced_data.shape"
   ]
  },
  {
   "cell_type": "code",
   "execution_count": 87,
   "metadata": {
    "collapsed": true
   },
   "outputs": [],
   "source": [
    "import matplotlib.pyplot as plt"
   ]
  },
  {
   "cell_type": "code",
   "execution_count": 98,
   "metadata": {},
   "outputs": [
    {
     "data": {
      "image/png": "[encoded data removed]",
      "text/plain": [
       "<matplotlib.figure.Figure at 0x1a21c3f550>"
      ]
     },
     "metadata": {},
     "output_type": "display_data"
    }
   ],
   "source": [
    "plt.scatter(reduced_data[:,0], reduced_data[:,1], c = tweet_topic_labels)\n",
    "plt.show()"
   ]
  },
  {
   "cell_type": "code",
   "execution_count": 93,
   "metadata": {},
   "outputs": [
    {
     "data": {
      "text/plain": [
       "array([-6.94132369e-02, -5.34476083e-02, -2.10470107e-01,  6.06841242e-01,\n",
       "       -5.05725653e-02, -1.82488581e-01, -7.54181779e-02, -1.01694230e-01,\n",
       "       -5.00797728e-02, -5.53169257e-02, -6.63426793e-02, -7.19292743e-02,\n",
       "       -4.79137155e-01,  3.97491294e-01, -6.05603151e-02, -8.31188005e-02,\n",
       "        6.33355737e-01, -8.36519952e-02, -4.15339927e-01, -6.08170561e-02,\n",
       "        3.42253393e-01,  6.84143421e-01,  6.75608647e-01, -2.25203591e-01,\n",
       "       -5.08121081e-01, -4.78778804e-01, -5.44303186e-01, -7.48598860e-02,\n",
       "       -7.36769663e-02, -5.53169257e-02, -4.77875462e-01, -2.80135938e-01,\n",
       "       -5.65910996e-02, -7.69852563e-02, -5.78711280e-02, -7.31541768e-02,\n",
       "        2.06972223e-01, -7.13757868e-02,  3.21296462e-01, -7.63876218e-02,\n",
       "       -5.71390842e-02,  7.11606933e-01, -2.84998615e-01, -5.75483988e-02,\n",
       "       -1.86901066e-01, -5.93097049e-01,  6.65693013e-01,  5.17592035e-01,\n",
       "       -4.78353341e-01,  4.10583938e-01, -6.90277464e-02, -7.48586784e-02,\n",
       "       -5.28197278e-01, -5.61912535e-02,  5.53398343e-02, -7.66474306e-02,\n",
       "        7.11606933e-01, -6.63435173e-02, -3.38699201e-01,  4.71852143e-01,\n",
       "       -8.38755658e-02, -5.66268345e-02, -5.92838808e-01, -7.54217275e-02,\n",
       "        7.68256281e-02, -5.66256215e-02, -5.44769109e-02, -7.79899740e-02,\n",
       "       -3.19898374e-01, -1.79966738e-01,  5.76243712e-01, -6.88877691e-02,\n",
       "        5.02445724e-01, -2.02686764e-02, -1.08471888e-01,  1.32117235e-01,\n",
       "       -7.54217275e-02, -4.62469670e-02, -7.58945921e-02, -4.97271752e-02,\n",
       "       -6.86874230e-02, -6.96301907e-02, -5.62940082e-02, -7.39055946e-02,\n",
       "       -7.62681264e-02, -1.42664505e-01, -7.80716443e-02, -6.56323306e-02,\n",
       "       -6.51651146e-02,  1.48476513e-01, -7.12012298e-02,  1.44323149e-02,\n",
       "       -2.02686764e-02, -6.90165488e-02, -7.55979409e-02, -2.65982393e-01,\n",
       "        6.84892596e-01, -6.57652541e-02, -8.62098297e-02, -5.27474307e-02,\n",
       "       -2.05609128e-01, -1.41225076e-01, -5.71390842e-02, -5.56650005e-02,\n",
       "        6.06033781e-01, -7.71919399e-02,  7.11286565e-01, -7.62790408e-02,\n",
       "       -6.24288104e-02,  5.66082981e-01, -7.63790363e-02, -5.62940082e-02,\n",
       "       -2.85506016e-01,  4.91759829e-01, -6.46960626e-02, -5.77591223e-02,\n",
       "       -6.62217001e-02, -5.81739223e-02, -5.80136265e-02, -7.91023685e-02,\n",
       "       -7.76095536e-02,  2.20774257e-01, -5.62681579e-02, -7.24282684e-02,\n",
       "       -8.49204286e-02, -6.78699908e-02, -5.93097049e-01,  3.66954261e-01,\n",
       "       -5.00861862e-02, -5.77591223e-02, -7.41705942e-02, -5.75700022e-02,\n",
       "       -6.99416851e-02, -6.48009016e-02, -6.43048012e-02,  5.06865819e-01,\n",
       "       -2.02686764e-02, -6.87856834e-02, -4.02547855e-02, -5.87174554e-01,\n",
       "       -5.75700022e-02, -6.90012792e-02, -3.21771946e-01, -5.27917147e-01,\n",
       "       -6.07892726e-02, -5.75500184e-01, -7.41704629e-02, -6.87480197e-02,\n",
       "       -1.54149752e-01, -5.22070836e-02,  3.71605069e-01,  9.40164602e-02,\n",
       "       -7.76254467e-02, -1.57379562e-02,  8.13412503e-02,  1.91294507e-01,\n",
       "        1.61280822e-01, -8.28541283e-02, -6.78780329e-02,  6.83348282e-01,\n",
       "       -5.69736318e-01, -7.41704629e-02, -8.39460105e-02,  5.18958131e-01,\n",
       "       -7.00474114e-02, -6.56380823e-02, -5.69609118e-01,  4.58050546e-01,\n",
       "       -8.18016408e-02, -6.46890507e-02,  6.63380271e-01, -8.25658951e-02,\n",
       "        1.95680829e-01, -6.86881981e-02, -6.93686151e-02, -5.87336560e-01,\n",
       "       -5.54113036e-01, -2.28083585e-01, -2.86987179e-01, -9.64251290e-02,\n",
       "       -4.26424053e-01,  6.96796027e-01,  2.84617801e-01, -5.77579802e-02,\n",
       "       -3.27929201e-01, -7.39078199e-02,  2.06597388e-01,  5.00940184e-01,\n",
       "       -1.11344844e-02, -3.81811263e-01, -2.75599962e-01,  3.12447778e-01,\n",
       "       -9.57840686e-02, -5.69771153e-01,  1.58173088e-01,  4.04588790e-01,\n",
       "        3.31370541e-01, -4.26735363e-01,  6.65693013e-01,  3.60067351e-01,\n",
       "       -5.44714236e-02,  2.51667149e-01, -8.32259973e-02,  5.36131912e-02,\n",
       "       -2.02686764e-02,  6.19992332e-01,  6.31647750e-01, -3.21823124e-01,\n",
       "        3.87255215e-01,  5.67863361e-01, -5.43874513e-01,  3.76166954e-02,\n",
       "        6.04823876e-01, -4.76567272e-01, -6.58743927e-02,  2.18026967e-01,\n",
       "       -6.91067763e-02, -5.43644263e-01,  5.58987726e-01,  3.55550041e-01,\n",
       "        2.45025776e-01,  6.32328932e-01,  6.50777020e-01, -5.81420524e-02,\n",
       "       -8.55726771e-02, -4.76381873e-01, -4.01351384e-01, -3.89393529e-01,\n",
       "        1.97592992e-01, -5.63293869e-02, -5.66027637e-02,  2.31123094e-01,\n",
       "        3.49811522e-01, -5.63308858e-01,  6.91349437e-01,  6.30206180e-01,\n",
       "       -5.01385997e-01,  5.18609778e-01, -4.14601998e-01, -6.71415920e-02,\n",
       "       -5.07217668e-01, -1.32737578e-01,  3.78148028e-02, -7.83939412e-02,\n",
       "        4.86992066e-01, -2.77205489e-02,  7.14852334e-01, -2.37634534e-01,\n",
       "       -2.60488453e-01, -7.73947103e-02, -5.23039423e-02, -5.55565550e-01,\n",
       "        9.12641383e-02, -7.68763954e-02, -5.61979725e-02, -7.39055946e-02,\n",
       "       -5.81420524e-02,  2.81011752e-01,  6.74962896e-01, -3.87951390e-01,\n",
       "       -4.24941252e-01, -4.28073483e-01, -4.18805380e-01, -2.02686764e-02,\n",
       "       -6.65547425e-02, -3.53739927e-01, -7.51883347e-02, -5.79825062e-02,\n",
       "       -5.81420516e-02, -5.76028343e-01, -3.54789153e-01,  3.55692402e-01,\n",
       "       -7.42840934e-02,  6.91847597e-01,  2.56883442e-01,  5.00672378e-01,\n",
       "       -5.62960664e-01,  2.76867094e-01,  4.86015159e-01,  4.97289034e-01,\n",
       "       -6.85474857e-02,  1.39876145e-01,  7.14438181e-01,  5.67432426e-01,\n",
       "        6.84019020e-01, -5.66211328e-02, -8.61222281e-02, -8.13155026e-02,\n",
       "        5.67887811e-01,  5.62887901e-01, -1.91344391e-01, -5.03923005e-02,\n",
       "       -5.77015549e-02, -2.02686764e-02, -5.80262085e-02, -5.78526591e-02,\n",
       "        6.50472294e-01, -5.78526591e-02,  2.89968769e-01, -1.21779644e-02,\n",
       "       -2.04577171e-01,  8.82476400e-02, -5.03923005e-02, -5.84858642e-01,\n",
       "       -1.21243030e-01, -5.85859668e-02,  7.89487768e-03,  7.22496414e-01,\n",
       "       -1.79259893e-01, -5.70631822e-01, -7.09050822e-02,  6.76085682e-01,\n",
       "       -4.55322447e-01,  3.41859817e-01, -4.46971341e-01, -5.73295132e-02,\n",
       "       -2.63668296e-01, -7.03924984e-02, -5.55416741e-01, -5.67603720e-02,\n",
       "        4.04569755e-01,  7.06664164e-01,  3.69555930e-01, -8.65995848e-03,\n",
       "       -4.27351058e-01, -5.79825062e-02, -7.15934445e-02, -2.28843305e-01,\n",
       "        7.11014038e-01, -5.22478083e-02, -5.73295132e-02,  7.10997640e-01,\n",
       "        5.53119988e-02, -9.64559334e-02, -5.73295132e-02, -5.61291056e-02,\n",
       "       -1.15569256e-01, -6.78830588e-02,  6.97793928e-01, -2.02686764e-02,\n",
       "       -3.22954170e-01, -5.63880672e-01, -5.79825062e-02, -4.41918132e-01,\n",
       "        5.00404606e-01, -3.00384832e-01,  2.98671913e-01, -2.51076294e-01,\n",
       "        5.00845304e-01, -4.49821737e-02,  7.03575962e-01,  3.76405039e-02,\n",
       "        6.76042446e-01,  3.79261735e-02, -5.61999163e-02, -5.28379491e-01,\n",
       "       -4.07833525e-01, -3.85023998e-01, -8.64009266e-02, -5.52588405e-02,\n",
       "       -8.32313251e-02,  7.03071399e-01, -7.79890642e-02, -5.02648941e-02,\n",
       "       -8.43414306e-02,  3.71725800e-01, -2.45117641e-01, -8.01515517e-02,\n",
       "        7.17531379e-01,  5.04602116e-01,  3.70624554e-01,  7.11159475e-01,\n",
       "       -4.74923565e-02,  6.65199329e-01, -4.34856010e-01,  2.32838669e-01,\n",
       "       -2.02686764e-02, -5.28683780e-01, -6.32353547e-02, -7.31943029e-02,\n",
       "        3.54268169e-02,  3.81266316e-01, -6.97625176e-02,  6.83328846e-01,\n",
       "       -6.94270147e-02,  7.03008103e-01, -7.31950221e-02, -7.77457067e-02,\n",
       "        3.70061500e-01, -3.90304411e-01,  5.67887811e-01, -5.43869926e-01,\n",
       "        6.48536253e-01, -5.30057370e-01, -3.14253779e-01, -5.95871336e-01,\n",
       "       -6.66560418e-02, -2.97542128e-01, -3.41193430e-01, -6.71763222e-02,\n",
       "        4.76693818e-01,  5.38969354e-01, -8.16714425e-02, -4.79136541e-01,\n",
       "       -5.53808338e-01, -8.63492862e-02, -5.92838973e-01, -4.87545750e-01,\n",
       "       -2.10214552e-01,  3.01649623e-01, -5.99429189e-01, -8.41490163e-02,\n",
       "       -4.25397510e-01,  2.16476730e-01,  2.78690369e-01, -5.97853849e-01,\n",
       "        8.82556388e-02, -5.90674681e-01, -4.02561576e-02, -5.52776652e-02,\n",
       "       -5.76155861e-01, -5.76395124e-01, -8.28158754e-02,  5.67863361e-01,\n",
       "       -6.01134353e-01,  6.91865127e-01,  6.06436009e-01,  6.29747451e-01,\n",
       "       -1.77361902e-01, -6.57178840e-02, -4.07118186e-02, -5.63508739e-01,\n",
       "       -3.55988206e-01, -5.39092253e-01, -6.71763715e-02, -6.87508390e-02,\n",
       "       -4.58243384e-01, -5.76267734e-01, -2.43798563e-01, -4.55368357e-01,\n",
       "       -5.64068649e-01, -4.82086564e-01, -2.66780524e-01, -5.54990604e-01,\n",
       "       -5.03300961e-01,  6.83244797e-01, -7.86818903e-02, -2.55973897e-01,\n",
       "       -5.75362126e-02, -5.92838808e-01,  4.98948742e-01, -5.79354067e-01,\n",
       "       -5.07196094e-01,  1.06587525e-01, -2.02686764e-02, -5.75822634e-01,\n",
       "       -4.39466131e-01, -5.79925927e-01, -5.84260345e-01, -5.64041879e-01,\n",
       "       -5.47664632e-02, -4.04562499e-01, -4.05225519e-02, -5.37965300e-01,\n",
       "       -5.55056805e-01, -5.08297923e-01, -5.95607545e-01, -4.03953444e-01,\n",
       "       -5.84931954e-01, -5.30029578e-01, -2.02686764e-02, -7.65513822e-02,\n",
       "       -5.84170109e-01, -5.07632191e-02, -2.70667477e-01, -4.73298305e-01,\n",
       "       -4.41822635e-01, -5.63961067e-01, -6.02627406e-01, -3.98439515e-01,\n",
       "       -5.69684478e-01,  6.51072208e-01, -5.87170609e-01, -7.65356503e-02,\n",
       "       -5.66583990e-02,  4.06998343e-01, -6.60268616e-02, -5.63930561e-02,\n",
       "        4.49023921e-01,  6.76041427e-01,  7.11149272e-01, -6.48191571e-02,\n",
       "        6.56844871e-01, -7.23129530e-02,  6.35762040e-02,  3.68861211e-01,\n",
       "       -1.14847478e-01, -8.05366015e-02,  3.70305609e-01,  6.92608555e-01,\n",
       "       -2.95731846e-01, -5.65025029e-02,  6.65725984e-01, -4.69510952e-01,\n",
       "       -8.61431518e-02,  1.82784161e-01, -2.70655987e-01, -1.00196596e-01,\n",
       "       -5.62221769e-01, -8.60484771e-02, -2.47088641e-01,  6.74393448e-01,\n",
       "       -6.82947344e-02,  7.20302882e-01,  6.51845371e-01,  7.11535319e-01,\n",
       "        6.98639138e-01, -6.82222448e-02, -4.91653858e-01,  7.15014930e-01,\n",
       "       -6.49044528e-02, -2.95652434e-01, -2.53734621e-01, -8.46632317e-02,\n",
       "       -7.95908662e-02,  5.24400622e-01, -5.41786251e-01, -5.80300112e-01,\n",
       "       -3.49867378e-01,  6.51517558e-01, -4.25389083e-02, -5.44714236e-02,\n",
       "       -5.09627947e-01, -5.97537216e-01, -5.09627004e-01,  2.89594273e-01,\n",
       "       -4.10141491e-01, -2.88802262e-01,  6.51232866e-01, -5.54671416e-01,\n",
       "        6.83348282e-01, -5.92838808e-01, -2.82560248e-01,  7.24672957e-01,\n",
       "        5.00179768e-01, -6.01335662e-02, -5.63600174e-01, -3.23420297e-01,\n",
       "       -7.76079098e-02, -7.64894704e-02, -7.00276087e-02,  3.54074398e-01,\n",
       "       -5.70536588e-01, -2.03546442e-02, -6.27788239e-02, -3.74133816e-01,\n",
       "       -9.26318404e-03, -5.43171017e-01, -5.62763136e-01, -4.75776449e-01,\n",
       "       -5.00314894e-01,  1.05110282e-04, -5.58011211e-02, -3.86925319e-01,\n",
       "       -7.72487651e-02, -6.82222448e-02, -8.05325712e-02,  2.32463056e-01,\n",
       "       -5.63363638e-01, -4.79784591e-01,  6.05955846e-01, -2.60713773e-01,\n",
       "        6.31943901e-01, -2.98167784e-01, -6.71292733e-02, -8.21840688e-02,\n",
       "        3.81491157e-01, -5.79998214e-01, -5.54597519e-01,  5.25048729e-01,\n",
       "       -5.76068095e-01,  2.65889490e-01,  3.78214152e-01, -4.02547697e-02,\n",
       "        5.67897728e-01,  2.20409513e-01, -3.44535813e-01,  6.63868025e-01,\n",
       "        6.65372035e-01, -8.44993074e-02, -6.61562241e-02, -8.62723125e-02,\n",
       "       -4.04408153e-01,  3.84487700e-01,  5.00588655e-01, -4.82020004e-01,\n",
       "       -7.68763954e-02, -6.00502637e-02, -7.41312324e-02,  6.03664663e-01,\n",
       "       -5.08345219e-02,  6.06949823e-01, -5.45749767e-02, -4.15375794e-01,\n",
       "        2.95906309e-01, -3.25760415e-01, -8.65620186e-02, -3.41118290e-01,\n",
       "       -8.45917413e-02, -8.37502351e-02,  1.00769389e-01, -7.39473223e-02,\n",
       "        5.65611818e-01, -5.76028343e-01, -3.39669550e-01, -6.86210190e-02,\n",
       "       -3.21260723e-01, -8.62723125e-02, -8.72031504e-02,  1.54383777e-01,\n",
       "       -1.76358284e-01, -7.66845477e-02, -6.80851815e-02, -6.82222448e-02,\n",
       "        4.99583433e-01,  2.37660282e-01, -7.21258633e-02, -1.21635556e-01,\n",
       "       -7.39855504e-02, -4.73962809e-01, -2.02686764e-02, -8.02811143e-02,\n",
       "        6.74865875e-01,  1.93782618e-01, -3.14109702e-01, -1.85926345e-01,\n",
       "       -5.54310387e-01, -5.45230990e-02, -6.56831427e-02, -6.58094688e-02,\n",
       "       -5.69092661e-02, -6.62832529e-02,  4.57970316e-01,  7.14600847e-01,\n",
       "        4.25393701e-01, -2.02686764e-02, -2.56231512e-01,  1.58235162e-01,\n",
       "        5.66664467e-01,  7.80218062e-02,  5.36669982e-01, -7.79450291e-02,\n",
       "       -8.01500559e-02, -7.76079098e-02,  5.67887811e-01,  6.63936125e-01,\n",
       "        6.92205248e-01,  6.51335298e-01, -7.26612222e-02,  5.43392644e-01,\n",
       "        6.31766338e-01, -6.28326888e-02, -2.97918731e-01,  6.85396322e-01,\n",
       "        7.25171316e-02, -3.21752336e-01,  6.91703653e-01,  3.67851567e-02,\n",
       "       -5.47361498e-02,  5.71597595e-01,  6.98120479e-01, -2.02686764e-02,\n",
       "       -7.44436762e-02, -2.02686764e-02,  5.75551669e-01, -3.58547536e-01,\n",
       "       -5.54146273e-02, -8.01474998e-02,  4.30789149e-01, -6.05375060e-02,\n",
       "       -2.43549016e-01, -5.01188251e-01,  7.02652908e-01,  2.38511688e-02,\n",
       "       -7.76079098e-02, -7.44171541e-02, -2.17305329e-01, -7.81371992e-02,\n",
       "        4.97389016e-01,  6.97009097e-01, -2.02686764e-02, -8.02284336e-02,\n",
       "       -2.00355359e-01, -4.76632753e-01, -4.77457969e-01, -6.44387106e-02,\n",
       "       -8.15039657e-02, -1.84355452e-01, -4.78507304e-01,  1.80983373e-01,\n",
       "        6.50940440e-01,  1.27365966e-01, -8.56005566e-02, -6.56921227e-02,\n",
       "        4.94379710e-01,  2.61524539e-01, -3.37282067e-01, -6.86311164e-02,\n",
       "       -5.64192925e-02,  4.53691365e-01, -7.76448406e-02,  1.02780504e-01,\n",
       "        3.72378689e-01,  4.91717416e-01,  6.06841242e-01, -2.64040458e-01,\n",
       "       -4.75803651e-01, -8.70159518e-02, -6.58093910e-02, -8.17190270e-02,\n",
       "       -2.02686764e-02, -6.13434113e-02,  1.63236821e-01, -1.12315339e-01,\n",
       "        3.27682659e-01,  7.03141942e-01, -7.33622837e-02,  7.11726848e-02,\n",
       "       -5.07975102e-01, -2.65560807e-01,  5.67319155e-01,  6.98444757e-01,\n",
       "       -1.00970537e-01, -6.88222116e-02, -5.83240698e-01, -7.67580948e-02,\n",
       "       -4.00580861e-01, -7.19038151e-02,  3.66954261e-01, -5.54146273e-02,\n",
       "       -1.58048072e-01, -3.10639903e-01,  6.83645963e-01, -5.97868067e-02,\n",
       "       -1.62793180e-01, -7.32028248e-03, -5.65746889e-02,  6.06220921e-01,\n",
       "       -2.65800006e-01, -5.80674047e-01,  7.32319605e-02, -8.18797394e-02,\n",
       "        7.64232801e-02, -2.98160723e-01,  2.40640877e-01, -8.38715291e-02,\n",
       "        7.64073502e-02,  1.17388654e-01, -8.19521593e-02, -5.21406636e-02,\n",
       "        5.19824059e-01,  5.67075279e-01, -7.59297075e-02, -5.38546081e-02,\n",
       "       -7.15906914e-02,  2.14979223e-01,  6.49859964e-01, -5.64021271e-02,\n",
       "       -8.75856047e-02, -8.68359167e-02, -7.59390469e-02, -4.69027642e-02,\n",
       "       -2.91186962e-01,  5.67934131e-01, -8.85941613e-02, -3.89253898e-01,\n",
       "       -2.02686764e-02,  5.01456784e-01, -3.21752336e-01,  6.84488242e-01,\n",
       "       -4.26682669e-01, -5.05534396e-02, -1.10838847e-01, -3.24088531e-01,\n",
       "       -5.58342795e-02, -8.70746378e-02, -4.57298061e-01, -8.17072049e-02,\n",
       "        5.02539315e-01,  3.72848918e-01, -7.58388419e-02, -3.62883606e-01,\n",
       "       -5.62698975e-01, -7.48284888e-02, -7.76184541e-02, -7.72209672e-02,\n",
       "       -7.79450291e-02, -2.02686764e-02,  3.06934978e-01, -6.29826481e-02,\n",
       "       -2.22107148e-01, -5.52296201e-01, -7.41312324e-02, -5.85013741e-02,\n",
       "        6.83714655e-01, -7.68692828e-02,  5.02583750e-01,  5.67942427e-01,\n",
       "       -5.36882111e-02, -1.29436686e-01, -7.19335166e-02,  2.18876455e-01,\n",
       "        6.05984443e-01, -6.61232516e-02, -8.08447598e-02, -7.78275540e-02,\n",
       "        3.39325899e-01, -8.02503948e-02, -5.03615912e-02, -7.76390888e-02,\n",
       "       -7.66346802e-02, -7.76079098e-02, -4.51059607e-01, -7.51744105e-02,\n",
       "       -5.54146273e-02,  4.28227325e-01,  2.85665435e-01, -6.72275008e-02,\n",
       "        1.95408197e-01,  6.51629532e-01, -7.96832520e-02, -6.85587249e-02,\n",
       "       -4.10507352e-02,  4.18633889e-01, -7.05402192e-02,  7.06868652e-01,\n",
       "       -8.59447013e-02,  1.38957732e-01, -1.44116938e-01, -6.57178840e-02,\n",
       "       -7.76557964e-02, -1.45609584e-01,  8.95366719e-02, -7.63424643e-02,\n",
       "       -7.79450291e-02, -7.78275540e-02, -7.53516828e-02, -7.42160843e-02,\n",
       "       -7.35989095e-02, -5.28700650e-01, -5.71798500e-02, -8.37270767e-02,\n",
       "       -7.37143952e-02, -7.74493204e-02, -7.35989095e-02, -8.37270767e-02,\n",
       "       -2.92413445e-01, -7.67224959e-02, -7.21056474e-02,  7.01187613e-01,\n",
       "       -7.09266564e-02, -7.38607960e-02,  6.51198199e-01,  4.17069617e-01,\n",
       "       -8.36642240e-02, -6.83373742e-02,  6.04406087e-01, -5.08607848e-01,\n",
       "        6.49288084e-01,  3.33906187e-01, -6.64157510e-02, -6.71557842e-02,\n",
       "       -3.25254564e-01, -8.78528553e-02,  3.86454468e-02, -5.54146273e-02,\n",
       "       -2.02686764e-02, -5.57665572e-02, -1.87339307e-01, -4.75704924e-01,\n",
       "       -7.52090708e-02,  2.07872241e-01,  6.29394413e-01,  2.62400172e-01,\n",
       "       -3.14962376e-01, -5.58011211e-02,  4.41718810e-01, -8.66211982e-02,\n",
       "       -6.86712310e-02, -2.02686764e-02, -8.64409079e-02, -4.27888110e-01,\n",
       "       -6.44235866e-02,  5.67863361e-01,  4.00944200e-01,  6.63977052e-01,\n",
       "        4.05137231e-01,  5.66462969e-01, -7.77293302e-02, -3.22155450e-01,\n",
       "       -5.64774133e-02, -4.55183436e-01,  6.85539018e-01, -2.02686764e-02,\n",
       "       -8.13796851e-02, -8.98206649e-02, -1.16948316e-01, -6.49247640e-02,\n",
       "       -1.29956126e-02, -5.62000133e-02, -8.50750466e-02, -7.38497041e-02,\n",
       "       -5.28751802e-01,  7.10844125e-01,  2.38497582e-01,  6.97964153e-01,\n",
       "        5.06485391e-01,  4.00893042e-01,  4.73605101e-01, -9.39795111e-02,\n",
       "       -5.06118399e-01, -3.25476330e-01, -2.02686764e-02,  5.37817410e-01,\n",
       "        6.49346900e-01, -2.27377859e-01,  4.93194065e-01,  7.43641928e-02,\n",
       "       -3.21752336e-01, -7.41060328e-02, -2.02686764e-02, -1.59195841e-01,\n",
       "       -6.76911932e-02, -4.08520362e-02, -4.75824033e-02, -5.08463480e-01,\n",
       "       -4.81851923e-02, -5.04109668e-02,  6.85307296e-01, -7.78724964e-02,\n",
       "       -3.25254445e-01, -6.10716318e-02, -7.45955828e-02,  6.85489586e-01,\n",
       "        5.61210211e-01,  3.71137518e-01,  1.40860840e-01, -6.84356135e-02,\n",
       "       -2.29049899e-01, -6.81146781e-02, -2.02686764e-02,  2.02701924e-01,\n",
       "        1.27696937e-01, -7.97685293e-02,  4.87198367e-01, -5.42446486e-01,\n",
       "       -8.63971865e-02, -4.76646511e-01, -5.54146273e-02, -8.28036689e-02,\n",
       "       -2.74344259e-01,  6.04525917e-01,  6.31985230e-01,  7.24605001e-01,\n",
       "       -5.83864084e-01, -6.00516339e-02, -8.39519305e-02, -8.05853500e-02,\n",
       "       -5.38826273e-02, -5.63222902e-01, -2.02686764e-02,  8.83489440e-02,\n",
       "       -8.46056341e-02,  4.24183840e-02,  6.05140395e-01, -7.77669477e-02,\n",
       "       -3.49970755e-01, -8.16538171e-02,  7.14059988e-01, -8.11286807e-02,\n",
       "       -8.59663012e-02, -5.69378818e-01, -6.47866958e-02, -3.91540274e-02,\n",
       "       -4.22857103e-01, -5.63425068e-01,  4.72696303e-01, -1.87240929e-01,\n",
       "        1.21667550e-01, -4.07878298e-02,  2.77591883e-01,  3.71899310e-01,\n",
       "       -7.32273601e-02, -5.83440202e-01, -5.66461446e-02,  4.72208955e-02,\n",
       "        6.51808807e-01,  4.67877981e-01,  3.72102021e-02, -5.28872803e-01])"
      ]
     },
     "execution_count": 93,
     "metadata": {},
     "output_type": "execute_result"
    }
   ],
   "source": [
    "reduced_data[:,0]"
   ]
  },
  {
   "cell_type": "code",
   "execution_count": null,
   "metadata": {
    "collapsed": true
   },
   "outputs": [],
   "source": []
  }
 ],
 "metadata": {
  "kernelspec": {
   "display_name": "Python 3",
   "language": "python",
   "name": "python3"
  },
  "language_info": {
   "codemirror_mode": {
    "name": "ipython",
    "version": 3
   },
   "file_extension": ".py",
   "mimetype": "text/x-python",
   "name": "python",
   "nbconvert_exporter": "python",
   "pygments_lexer": "ipython3",
   "version": "3.6.9"
  }
 },
 "nbformat": 4,
 "nbformat_minor": 2
}
