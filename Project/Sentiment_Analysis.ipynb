{
 "cells": [
  {
   "cell_type": "markdown",
   "metadata": {},
   "source": [
    "# Final Project: Sentiment Analysis on Covid-19 Tweets  \n",
    "**Math189Z – Covid-19: Data Analytics and Machine Learning**  \n",
    "Nico Espinosa Dice  \n",
    "*May, 2020*  "
   ]
  },
  {
   "cell_type": "markdown",
   "metadata": {},
   "source": [
    "## Sources\n",
    "This project uses theory presented in the following academic papers:  \n",
    "- [Sentiment Analysis of Twitter Data](http://www.cs.columbia.edu/~julia/papers/Agarwaletal11.pdf) (1)\n",
    "\n",
    "- [Sentiment Analysis of Twitter Data](https://arxiv.org/pdf/1711.10377.pdf) (2)\n",
    "\n",
    "- [Covid-19 Tweets Dataset and Statistics](https://ieee-dataport.org/open-access/corona-virus-covid-19-tweets-dataset)\n",
    "\n",
    "\n",
    "This project uses code that was inspired and adapted from the following open-source resources:  \n",
    "- [Twitter Sentiment Analysis with Explanation (Naive Bayes)](https://medium.com/@koshut.takatsuji/twitter-sentiment-analysis-with-full-code-and-explanation-naive-bayes-a380b38f036b)\n",
    "\n",
    "- [Creating The Twitter Sentiment Analysis Program in Python with Naive Bayes Classification](https://towardsdatascience.com/creating-the-twitter-sentiment-analysis-program-in-python-with-naive-bayes-classification-672e5589a7ed)\n",
    "\n",
    "- [How to Do Sentiment Analysis on a Twitter Account](https://medium.com/better-programming/twitter-sentiment-analysis-15d8892c0082)\n",
    "\n",
    "- [Comprehensive Hands on Guide to Twitter Sentiment Analysis with dataset and code](https://www.analyticsvidhya.com/blog/2018/07/hands-on-sentiment-analysis-dataset-python/)\n",
    "\n",
    "### Data\n",
    "The dataset of Tweets was provided by Professor Gu as part of HMC Math189Z. The data is available [here](https://math189covid19.github.io/resources.html). The original source of the data is unknown at this time.\n",
    "\n",
    "The Twitter sentiment corpus was downloaded from this [public repository](https://github.com/zfz/twitter_corpus)."
   ]
  },
  {
   "cell_type": "markdown",
   "metadata": {},
   "source": [
    "## Importing Data"
   ]
  },
  {
   "cell_type": "code",
   "execution_count": 1,
   "metadata": {},
   "outputs": [
    {
     "name": "stderr",
     "output_type": "stream",
     "text": [
      "[nltk_data] Downloading package stopwords to\n",
      "[nltk_data]     /Users/nicoespinosadice/nltk_data...\n",
      "[nltk_data]   Package stopwords is already up-to-date!\n",
      "[nltk_data] Downloading package punkt to\n",
      "[nltk_data]     /Users/nicoespinosadice/nltk_data...\n",
      "[nltk_data]   Package punkt is already up-to-date!\n"
     ]
    },
    {
     "data": {
      "text/plain": [
       "True"
      ]
     },
     "execution_count": 1,
     "metadata": {},
     "output_type": "execute_result"
    }
   ],
   "source": [
    "# Imports the necessary libraries\n",
    "import numpy as np\n",
    "import pandas as pd\n",
    "import re\n",
    "from textblob import TextBlob\n",
    "import matplotlib.pyplot as plt\n",
    "import nltk\n",
    "from nltk.tokenize import word_tokenize\n",
    "from string import punctuation \n",
    "from nltk.corpus import stopwords\n",
    "from sklearn.model_selection import train_test_split\n",
    "nltk.download('stopwords')\n",
    "nltk.download('punkt')"
   ]
  },
  {
   "cell_type": "code",
   "execution_count": 2,
   "metadata": {},
   "outputs": [],
   "source": [
    "# # For aesthetic purposes\n",
    "# # Source: https://stackoverflow.com/a/46884966\n",
    "# params = {\"figure.facecolor\": \"#cad9e1\",\n",
    "#               \"axes.facecolor\": \"#cad9e1\",\n",
    "#               \"axes.grid\" : True,\n",
    "#               \"axes.grid.axis\" : \"y\",\n",
    "#               \"grid.color\"    : \"#ffffff\",\n",
    "#               \"grid.linewidth\": 2,\n",
    "#               \"axes.spines.left\" : False,\n",
    "#               \"axes.spines.right\" : False,\n",
    "#               \"axes.spines.top\" : False,\n",
    "#               \"ytick.major.size\": 0,     \n",
    "#               \"ytick.minor.size\": 0,\n",
    "#               \"xtick.direction\" : \"in\",\n",
    "#               \"xtick.major.size\" : 7,\n",
    "#               \"xtick.color\"      : \"#191919\",\n",
    "#               \"axes.edgecolor\"    :\"#191919\",\n",
    "#               \"axes.prop_cycle\" : plt.cycler('color',\n",
    "#                                     ['#006767', '#ff7f0e', '#2ca02c', '#d62728',\n",
    "#                                      '#9467bd', '#8c564b', '#e377c2', '#7f7f7f',\n",
    "#                                      '#bcbd22', '#17becf'])}\n",
    "# plt.rcParams.update(params)"
   ]
  },
  {
   "cell_type": "code",
   "execution_count": 3,
   "metadata": {},
   "outputs": [],
   "source": [
    "# Imports data into Pandas dataframe\n",
    "feb_tweets = pd.read_csv('Data/feb_data.csv')\n",
    "march_tweets = pd.read_csv('Data/march_data.csv')\n",
    "april_tweets = pd.read_csv('Data/april_data.csv')"
   ]
  },
  {
   "cell_type": "code",
   "execution_count": 4,
   "metadata": {},
   "outputs": [],
   "source": [
    "# Sets column names of dataframes and drop unnecessary column\n",
    "feb_tweets.columns, march_tweets.columns, april_tweets.columns = ['Number', \"Date\", \"Text\"], ['Number', \"Date\", \"Text\"], ['Number', \"Date\", \"Text\"]\n",
    "feb_tweets = feb_tweets.drop(columns = [\"Number\"])\n",
    "march_tweets = march_tweets.drop(columns = [\"Number\"])\n",
    "april_tweets = april_tweets.drop(columns = [\"Number\"])"
   ]
  },
  {
   "cell_type": "code",
   "execution_count": 5,
   "metadata": {},
   "outputs": [],
   "source": [
    "feb_tweets[\"Month\"] = \"February\"\n",
    "march_tweets[\"Month\"] = \"March\"\n",
    "april_tweets[\"Month\"] = \"April\"\n",
    "\n",
    "data = pd.concat([feb_tweets, march_tweets, april_tweets], ignore_index=True)"
   ]
  },
  {
   "cell_type": "markdown",
   "metadata": {},
   "source": [
    "## Exploratory Data Analysis"
   ]
  },
  {
   "cell_type": "code",
   "execution_count": 6,
   "metadata": {},
   "outputs": [
    {
     "data": {
      "text/html": [
       "<div>\n",
       "<style scoped>\n",
       "    .dataframe tbody tr th:only-of-type {\n",
       "        vertical-align: middle;\n",
       "    }\n",
       "\n",
       "    .dataframe tbody tr th {\n",
       "        vertical-align: top;\n",
       "    }\n",
       "\n",
       "    .dataframe thead th {\n",
       "        text-align: right;\n",
       "    }\n",
       "</style>\n",
       "<table border=\"1\" class=\"dataframe\">\n",
       "  <thead>\n",
       "    <tr style=\"text-align: right;\">\n",
       "      <th></th>\n",
       "      <th>Date</th>\n",
       "      <th>Text</th>\n",
       "      <th>Month</th>\n",
       "    </tr>\n",
       "  </thead>\n",
       "  <tbody>\n",
       "    <tr>\n",
       "      <th>0</th>\n",
       "      <td>2020-02-19 23:59:11</td>\n",
       "      <td>Head nurse Cai Liping of Wuchang Hospital died...</td>\n",
       "      <td>February</td>\n",
       "    </tr>\n",
       "    <tr>\n",
       "      <th>1</th>\n",
       "      <td>2020-02-19 23:59:00</td>\n",
       "      <td>This bacteria-killing UV light robot helps a W...</td>\n",
       "      <td>February</td>\n",
       "    </tr>\n",
       "    <tr>\n",
       "      <th>2</th>\n",
       "      <td>2020-02-19 23:56:52</td>\n",
       "      <td>For those that are into the business side of s...</td>\n",
       "      <td>February</td>\n",
       "    </tr>\n",
       "    <tr>\n",
       "      <th>3</th>\n",
       "      <td>2020-02-19 23:55:34</td>\n",
       "      <td>How to fight against #coronavirus in #japan</td>\n",
       "      <td>February</td>\n",
       "    </tr>\n",
       "    <tr>\n",
       "      <th>4</th>\n",
       "      <td>2020-02-19 23:53:03</td>\n",
       "      <td>Diseases like covid-19 are deadlier in non-dem...</td>\n",
       "      <td>February</td>\n",
       "    </tr>\n",
       "  </tbody>\n",
       "</table>\n",
       "</div>"
      ],
      "text/plain": [
       "                  Date                                               Text  \\\n",
       "0  2020-02-19 23:59:11  Head nurse Cai Liping of Wuchang Hospital died...   \n",
       "1  2020-02-19 23:59:00  This bacteria-killing UV light robot helps a W...   \n",
       "2  2020-02-19 23:56:52  For those that are into the business side of s...   \n",
       "3  2020-02-19 23:55:34        How to fight against #coronavirus in #japan   \n",
       "4  2020-02-19 23:53:03  Diseases like covid-19 are deadlier in non-dem...   \n",
       "\n",
       "      Month  \n",
       "0  February  \n",
       "1  February  \n",
       "2  February  \n",
       "3  February  \n",
       "4  February  "
      ]
     },
     "execution_count": 6,
     "metadata": {},
     "output_type": "execute_result"
    }
   ],
   "source": [
    "feb_tweets.head()"
   ]
  },
  {
   "cell_type": "code",
   "execution_count": 7,
   "metadata": {},
   "outputs": [
    {
     "data": {
      "text/html": [
       "<div>\n",
       "<style scoped>\n",
       "    .dataframe tbody tr th:only-of-type {\n",
       "        vertical-align: middle;\n",
       "    }\n",
       "\n",
       "    .dataframe tbody tr th {\n",
       "        vertical-align: top;\n",
       "    }\n",
       "\n",
       "    .dataframe thead th {\n",
       "        text-align: right;\n",
       "    }\n",
       "</style>\n",
       "<table border=\"1\" class=\"dataframe\">\n",
       "  <thead>\n",
       "    <tr style=\"text-align: right;\">\n",
       "      <th></th>\n",
       "      <th>Date</th>\n",
       "      <th>Text</th>\n",
       "      <th>Month</th>\n",
       "    </tr>\n",
       "  </thead>\n",
       "  <tbody>\n",
       "    <tr>\n",
       "      <th>7495</th>\n",
       "      <td>2020-04-04 16:57:39</td>\n",
       "      <td>BREAKING: New York \"Accidentally\" Delivered Co...</td>\n",
       "      <td>April</td>\n",
       "    </tr>\n",
       "    <tr>\n",
       "      <th>7496</th>\n",
       "      <td>2020-04-04 16:57:32</td>\n",
       "      <td>With fewer people around because of #coronavir...</td>\n",
       "      <td>April</td>\n",
       "    </tr>\n",
       "    <tr>\n",
       "      <th>7497</th>\n",
       "      <td>2020-04-04 16:56:46</td>\n",
       "      <td>If Joe Biden is talking about the Trump Admini...</td>\n",
       "      <td>April</td>\n",
       "    </tr>\n",
       "    <tr>\n",
       "      <th>7498</th>\n",
       "      <td>2020-04-04 16:56:41</td>\n",
       "      <td>In case you know anyone looking for a job, Par...</td>\n",
       "      <td>April</td>\n",
       "    </tr>\n",
       "    <tr>\n",
       "      <th>7499</th>\n",
       "      <td>2020-04-04 16:56:13</td>\n",
       "      <td>Atleast now we all know where Lisbon got its c...</td>\n",
       "      <td>April</td>\n",
       "    </tr>\n",
       "  </tbody>\n",
       "</table>\n",
       "</div>"
      ],
      "text/plain": [
       "                     Date                                               Text  \\\n",
       "7495  2020-04-04 16:57:39  BREAKING: New York \"Accidentally\" Delivered Co...   \n",
       "7496  2020-04-04 16:57:32  With fewer people around because of #coronavir...   \n",
       "7497  2020-04-04 16:56:46  If Joe Biden is talking about the Trump Admini...   \n",
       "7498  2020-04-04 16:56:41  In case you know anyone looking for a job, Par...   \n",
       "7499  2020-04-04 16:56:13  Atleast now we all know where Lisbon got its c...   \n",
       "\n",
       "      Month  \n",
       "7495  April  \n",
       "7496  April  \n",
       "7497  April  \n",
       "7498  April  \n",
       "7499  April  "
      ]
     },
     "execution_count": 7,
     "metadata": {},
     "output_type": "execute_result"
    }
   ],
   "source": [
    "data.tail()"
   ]
  },
  {
   "cell_type": "markdown",
   "metadata": {},
   "source": [
    "## Data Preprocessing"
   ]
  },
  {
   "cell_type": "markdown",
   "metadata": {},
   "source": [
    "### Data Cleaning"
   ]
  },
  {
   "cell_type": "code",
   "execution_count": 8,
   "metadata": {},
   "outputs": [],
   "source": [
    "new_stopwords = set(stopwords.words('english') + list(punctuation) + ['AT_USER','URL'])"
   ]
  },
  {
   "cell_type": "code",
   "execution_count": 9,
   "metadata": {},
   "outputs": [],
   "source": [
    "# \"cleans\" the text by removing hyperlinks, hashtags, mentions, and retweets\n",
    "# This function was suggested here: https://medium.com/better-programming/twitter-sentiment-analysis-15d8892c0082\n",
    "def cleanText(text):\n",
    "    text = text.lower() # Makes text lowercase\n",
    "    text = re.sub('https?:\\/\\/\\S+', '', text) # Removes hyperlinks\n",
    "    text = re.sub('#', '', text) # Removes hashtags\n",
    "    text = re.sub('@[A-Za-z0–9]+', '', text) # Removes mentions (@)\n",
    "    text = re.sub('RT[\\s]+', '', text) # Removes \"RT\"\n",
    "    return text"
   ]
  },
  {
   "cell_type": "code",
   "execution_count": 10,
   "metadata": {},
   "outputs": [],
   "source": [
    "def convertToList(text):\n",
    "    text = word_tokenize(text)\n",
    "    return [word for word in text if word not in new_stopwords] # Source for this line: https://towardsdatascience.com/creating-the-twitter-sentiment-analysis-program-in-python-with-naive-bayes-classification-672e5589a7ed"
   ]
  },
  {
   "cell_type": "code",
   "execution_count": 11,
   "metadata": {},
   "outputs": [],
   "source": [
    "# Applys cleanText() to every Tweet in dataframe\n",
    "data[\"Text\"] = data[\"Text\"].apply(cleanText)\n",
    "data[\"List of Words\"] = data[\"Text\"].apply(convertToList)"
   ]
  },
  {
   "cell_type": "code",
   "execution_count": 12,
   "metadata": {},
   "outputs": [
    {
     "data": {
      "text/html": [
       "<div>\n",
       "<style scoped>\n",
       "    .dataframe tbody tr th:only-of-type {\n",
       "        vertical-align: middle;\n",
       "    }\n",
       "\n",
       "    .dataframe tbody tr th {\n",
       "        vertical-align: top;\n",
       "    }\n",
       "\n",
       "    .dataframe thead th {\n",
       "        text-align: right;\n",
       "    }\n",
       "</style>\n",
       "<table border=\"1\" class=\"dataframe\">\n",
       "  <thead>\n",
       "    <tr style=\"text-align: right;\">\n",
       "      <th></th>\n",
       "      <th>Date</th>\n",
       "      <th>Text</th>\n",
       "      <th>Month</th>\n",
       "      <th>List of Words</th>\n",
       "    </tr>\n",
       "  </thead>\n",
       "  <tbody>\n",
       "    <tr>\n",
       "      <th>0</th>\n",
       "      <td>2020-02-19 23:59:11</td>\n",
       "      <td>head nurse cai liping of wuchang hospital died...</td>\n",
       "      <td>February</td>\n",
       "      <td>[head, nurse, cai, liping, wuchang, hospital, ...</td>\n",
       "    </tr>\n",
       "    <tr>\n",
       "      <th>1</th>\n",
       "      <td>2020-02-19 23:59:00</td>\n",
       "      <td>this bacteria-killing uv light robot helps a w...</td>\n",
       "      <td>February</td>\n",
       "      <td>[bacteria-killing, uv, light, robot, helps, wu...</td>\n",
       "    </tr>\n",
       "    <tr>\n",
       "      <th>2</th>\n",
       "      <td>2020-02-19 23:56:52</td>\n",
       "      <td>for those that are into the business side of s...</td>\n",
       "      <td>February</td>\n",
       "      <td>[business, side, sneakers, adidas, business, r...</td>\n",
       "    </tr>\n",
       "    <tr>\n",
       "      <th>3</th>\n",
       "      <td>2020-02-19 23:55:34</td>\n",
       "      <td>how to fight against coronavirus in japan</td>\n",
       "      <td>February</td>\n",
       "      <td>[fight, coronavirus, japan]</td>\n",
       "    </tr>\n",
       "    <tr>\n",
       "      <th>4</th>\n",
       "      <td>2020-02-19 23:53:03</td>\n",
       "      <td>diseases like covid-19 are deadlier in non-dem...</td>\n",
       "      <td>February</td>\n",
       "      <td>[diseases, like, covid-19, deadlier, non-democ...</td>\n",
       "    </tr>\n",
       "  </tbody>\n",
       "</table>\n",
       "</div>"
      ],
      "text/plain": [
       "                  Date                                               Text  \\\n",
       "0  2020-02-19 23:59:11  head nurse cai liping of wuchang hospital died...   \n",
       "1  2020-02-19 23:59:00  this bacteria-killing uv light robot helps a w...   \n",
       "2  2020-02-19 23:56:52  for those that are into the business side of s...   \n",
       "3  2020-02-19 23:55:34          how to fight against coronavirus in japan   \n",
       "4  2020-02-19 23:53:03  diseases like covid-19 are deadlier in non-dem...   \n",
       "\n",
       "      Month                                      List of Words  \n",
       "0  February  [head, nurse, cai, liping, wuchang, hospital, ...  \n",
       "1  February  [bacteria-killing, uv, light, robot, helps, wu...  \n",
       "2  February  [business, side, sneakers, adidas, business, r...  \n",
       "3  February                        [fight, coronavirus, japan]  \n",
       "4  February  [diseases, like, covid-19, deadlier, non-democ...  "
      ]
     },
     "execution_count": 12,
     "metadata": {},
     "output_type": "execute_result"
    }
   ],
   "source": [
    "data.head()"
   ]
  },
  {
   "cell_type": "markdown",
   "metadata": {},
   "source": [
    "## Feature Engineering"
   ]
  },
  {
   "cell_type": "markdown",
   "metadata": {},
   "source": [
    "### Polarity\n",
    "-1 → extreme negative,  \n",
    "0 → neutral,  \n",
    "1 → extreme positive."
   ]
  },
  {
   "cell_type": "code",
   "execution_count": 13,
   "metadata": {},
   "outputs": [],
   "source": [
    "# Returns the polarity of the Tweet's text\n",
    "def getPolarity(text):\n",
    "   return  TextBlob(text).sentiment.polarity"
   ]
  },
  {
   "cell_type": "code",
   "execution_count": 14,
   "metadata": {},
   "outputs": [],
   "source": [
    "# Creates a new column containing the subjectivity of every Tweet\n",
    "data['Polarity'] = data['Text'].apply(getPolarity)"
   ]
  },
  {
   "cell_type": "markdown",
   "metadata": {},
   "source": [
    "### Subjectivity\n",
    "0 → fact,  \n",
    "1 → opinion."
   ]
  },
  {
   "cell_type": "code",
   "execution_count": 15,
   "metadata": {},
   "outputs": [],
   "source": [
    "# Returns the subjectivity of the Tweet's text\n",
    "def getSubjectivity(text):\n",
    "   return TextBlob(text).sentiment.subjectivity"
   ]
  },
  {
   "cell_type": "code",
   "execution_count": 16,
   "metadata": {},
   "outputs": [],
   "source": [
    "# Creates a new column containing the subjectivity of every Tweet\n",
    "data[\"Subjectivity\"] = data[\"Text\"].apply(getSubjectivity)"
   ]
  },
  {
   "cell_type": "markdown",
   "metadata": {},
   "source": [
    "## Sentiment Analysis\n",
    "Polarity < 0 → negative,  \n",
    "Polarity == 0 → neutral,  \n",
    "Polarity > 0 → positive. "
   ]
  },
  {
   "cell_type": "code",
   "execution_count": 17,
   "metadata": {},
   "outputs": [],
   "source": [
    "# Returns the analysis of each Tweet's text\n",
    "def getSentiment(polarity):\n",
    "    if polarity < 0:\n",
    "      return 'Negative'\n",
    "    elif polarity == 0:\n",
    "      return 'Neutral'\n",
    "    else:\n",
    "      return 'Positive'"
   ]
  },
  {
   "cell_type": "code",
   "execution_count": 18,
   "metadata": {},
   "outputs": [],
   "source": [
    "data['Analysis'] = data['Polarity'].apply(getSentiment)"
   ]
  },
  {
   "cell_type": "code",
   "execution_count": 19,
   "metadata": {},
   "outputs": [
    {
     "data": {
      "text/html": [
       "<div>\n",
       "<style scoped>\n",
       "    .dataframe tbody tr th:only-of-type {\n",
       "        vertical-align: middle;\n",
       "    }\n",
       "\n",
       "    .dataframe tbody tr th {\n",
       "        vertical-align: top;\n",
       "    }\n",
       "\n",
       "    .dataframe thead th {\n",
       "        text-align: right;\n",
       "    }\n",
       "</style>\n",
       "<table border=\"1\" class=\"dataframe\">\n",
       "  <thead>\n",
       "    <tr style=\"text-align: right;\">\n",
       "      <th></th>\n",
       "      <th>Date</th>\n",
       "      <th>Text</th>\n",
       "      <th>Month</th>\n",
       "      <th>List of Words</th>\n",
       "      <th>Polarity</th>\n",
       "      <th>Subjectivity</th>\n",
       "      <th>Analysis</th>\n",
       "    </tr>\n",
       "  </thead>\n",
       "  <tbody>\n",
       "    <tr>\n",
       "      <th>0</th>\n",
       "      <td>2020-02-19 23:59:11</td>\n",
       "      <td>head nurse cai liping of wuchang hospital died...</td>\n",
       "      <td>February</td>\n",
       "      <td>[head, nurse, cai, liping, wuchang, hospital, ...</td>\n",
       "      <td>0.000000</td>\n",
       "      <td>0.095833</td>\n",
       "      <td>Neutral</td>\n",
       "    </tr>\n",
       "    <tr>\n",
       "      <th>1</th>\n",
       "      <td>2020-02-19 23:59:00</td>\n",
       "      <td>this bacteria-killing uv light robot helps a w...</td>\n",
       "      <td>February</td>\n",
       "      <td>[bacteria-killing, uv, light, robot, helps, wu...</td>\n",
       "      <td>0.400000</td>\n",
       "      <td>0.700000</td>\n",
       "      <td>Positive</td>\n",
       "    </tr>\n",
       "    <tr>\n",
       "      <th>2</th>\n",
       "      <td>2020-02-19 23:56:52</td>\n",
       "      <td>for those that are into the business side of s...</td>\n",
       "      <td>February</td>\n",
       "      <td>[business, side, sneakers, adidas, business, r...</td>\n",
       "      <td>-0.126852</td>\n",
       "      <td>0.354630</td>\n",
       "      <td>Negative</td>\n",
       "    </tr>\n",
       "    <tr>\n",
       "      <th>3</th>\n",
       "      <td>2020-02-19 23:55:34</td>\n",
       "      <td>how to fight against coronavirus in japan</td>\n",
       "      <td>February</td>\n",
       "      <td>[fight, coronavirus, japan]</td>\n",
       "      <td>0.000000</td>\n",
       "      <td>0.000000</td>\n",
       "      <td>Neutral</td>\n",
       "    </tr>\n",
       "    <tr>\n",
       "      <th>4</th>\n",
       "      <td>2020-02-19 23:53:03</td>\n",
       "      <td>diseases like covid-19 are deadlier in non-dem...</td>\n",
       "      <td>February</td>\n",
       "      <td>[diseases, like, covid-19, deadlier, non-democ...</td>\n",
       "      <td>0.627500</td>\n",
       "      <td>0.832500</td>\n",
       "      <td>Positive</td>\n",
       "    </tr>\n",
       "  </tbody>\n",
       "</table>\n",
       "</div>"
      ],
      "text/plain": [
       "                  Date                                               Text  \\\n",
       "0  2020-02-19 23:59:11  head nurse cai liping of wuchang hospital died...   \n",
       "1  2020-02-19 23:59:00  this bacteria-killing uv light robot helps a w...   \n",
       "2  2020-02-19 23:56:52  for those that are into the business side of s...   \n",
       "3  2020-02-19 23:55:34          how to fight against coronavirus in japan   \n",
       "4  2020-02-19 23:53:03  diseases like covid-19 are deadlier in non-dem...   \n",
       "\n",
       "      Month                                      List of Words  Polarity  \\\n",
       "0  February  [head, nurse, cai, liping, wuchang, hospital, ...  0.000000   \n",
       "1  February  [bacteria-killing, uv, light, robot, helps, wu...  0.400000   \n",
       "2  February  [business, side, sneakers, adidas, business, r... -0.126852   \n",
       "3  February                        [fight, coronavirus, japan]  0.000000   \n",
       "4  February  [diseases, like, covid-19, deadlier, non-democ...  0.627500   \n",
       "\n",
       "   Subjectivity  Analysis  \n",
       "0      0.095833   Neutral  \n",
       "1      0.700000  Positive  \n",
       "2      0.354630  Negative  \n",
       "3      0.000000   Neutral  \n",
       "4      0.832500  Positive  "
      ]
     },
     "execution_count": 19,
     "metadata": {},
     "output_type": "execute_result"
    }
   ],
   "source": [
    "data.head()"
   ]
  },
  {
   "cell_type": "markdown",
   "metadata": {},
   "source": [
    "## Analysis"
   ]
  },
  {
   "cell_type": "markdown",
   "metadata": {},
   "source": [
    "### Analysis: Full Dataset"
   ]
  },
  {
   "cell_type": "code",
   "execution_count": 20,
   "metadata": {},
   "outputs": [],
   "source": [
    "positive_tweets = data.loc[data[\"Analysis\"] == \"Positive\"]\n",
    "neutral_tweets = data.loc[data[\"Analysis\"] == \"Neutral\"]\n",
    "negative_tweets = data.loc[data[\"Analysis\"] == \"Negative\"]"
   ]
  },
  {
   "cell_type": "code",
   "execution_count": 21,
   "metadata": {},
   "outputs": [],
   "source": [
    "positive_tweets.reset_index(drop=True, inplace=True)\n",
    "neutral_tweets.reset_index(drop=True, inplace=True)\n",
    "negative_tweets.reset_index(drop=True, inplace=True)"
   ]
  },
  {
   "cell_type": "code",
   "execution_count": 22,
   "metadata": {},
   "outputs": [
    {
     "data": {
      "text/html": [
       "<div>\n",
       "<style scoped>\n",
       "    .dataframe tbody tr th:only-of-type {\n",
       "        vertical-align: middle;\n",
       "    }\n",
       "\n",
       "    .dataframe tbody tr th {\n",
       "        vertical-align: top;\n",
       "    }\n",
       "\n",
       "    .dataframe thead th {\n",
       "        text-align: right;\n",
       "    }\n",
       "</style>\n",
       "<table border=\"1\" class=\"dataframe\">\n",
       "  <thead>\n",
       "    <tr style=\"text-align: right;\">\n",
       "      <th></th>\n",
       "      <th>Date</th>\n",
       "      <th>Text</th>\n",
       "      <th>Month</th>\n",
       "      <th>List of Words</th>\n",
       "      <th>Polarity</th>\n",
       "      <th>Subjectivity</th>\n",
       "      <th>Analysis</th>\n",
       "    </tr>\n",
       "  </thead>\n",
       "  <tbody>\n",
       "    <tr>\n",
       "      <th>0</th>\n",
       "      <td>2020-02-19 23:59:00</td>\n",
       "      <td>this bacteria-killing uv light robot helps a w...</td>\n",
       "      <td>February</td>\n",
       "      <td>[bacteria-killing, uv, light, robot, helps, wu...</td>\n",
       "      <td>0.4000</td>\n",
       "      <td>0.7000</td>\n",
       "      <td>Positive</td>\n",
       "    </tr>\n",
       "    <tr>\n",
       "      <th>1</th>\n",
       "      <td>2020-02-19 23:53:03</td>\n",
       "      <td>diseases like covid-19 are deadlier in non-dem...</td>\n",
       "      <td>February</td>\n",
       "      <td>[diseases, like, covid-19, deadlier, non-democ...</td>\n",
       "      <td>0.6275</td>\n",
       "      <td>0.8325</td>\n",
       "      <td>Positive</td>\n",
       "    </tr>\n",
       "    <tr>\n",
       "      <th>2</th>\n",
       "      <td>2020-02-19 23:47:07</td>\n",
       "      <td>the world's most comprehensive site addressing...</td>\n",
       "      <td>February</td>\n",
       "      <td>[world, 's, comprehensive, site, addressing, a...</td>\n",
       "      <td>0.5000</td>\n",
       "      <td>0.5000</td>\n",
       "      <td>Positive</td>\n",
       "    </tr>\n",
       "    <tr>\n",
       "      <th>3</th>\n",
       "      <td>2020-02-19 23:39:10</td>\n",
       "      <td>. \"12,000 people have died from influenza betw...</td>\n",
       "      <td>February</td>\n",
       "      <td>[``, 12,000, people, died, influenza, oct., 1,...</td>\n",
       "      <td>0.1600</td>\n",
       "      <td>0.5400</td>\n",
       "      <td>Positive</td>\n",
       "    </tr>\n",
       "    <tr>\n",
       "      <th>4</th>\n",
       "      <td>2020-02-19 23:35:51</td>\n",
       "      <td>coronavirus chaos can prompt a needed rethink ...</td>\n",
       "      <td>February</td>\n",
       "      <td>[coronavirus, chaos, prompt, needed, rethink, ...</td>\n",
       "      <td>0.1000</td>\n",
       "      <td>0.1000</td>\n",
       "      <td>Positive</td>\n",
       "    </tr>\n",
       "  </tbody>\n",
       "</table>\n",
       "</div>"
      ],
      "text/plain": [
       "                  Date                                               Text  \\\n",
       "0  2020-02-19 23:59:00  this bacteria-killing uv light robot helps a w...   \n",
       "1  2020-02-19 23:53:03  diseases like covid-19 are deadlier in non-dem...   \n",
       "2  2020-02-19 23:47:07  the world's most comprehensive site addressing...   \n",
       "3  2020-02-19 23:39:10  . \"12,000 people have died from influenza betw...   \n",
       "4  2020-02-19 23:35:51  coronavirus chaos can prompt a needed rethink ...   \n",
       "\n",
       "      Month                                      List of Words  Polarity  \\\n",
       "0  February  [bacteria-killing, uv, light, robot, helps, wu...    0.4000   \n",
       "1  February  [diseases, like, covid-19, deadlier, non-democ...    0.6275   \n",
       "2  February  [world, 's, comprehensive, site, addressing, a...    0.5000   \n",
       "3  February  [``, 12,000, people, died, influenza, oct., 1,...    0.1600   \n",
       "4  February  [coronavirus, chaos, prompt, needed, rethink, ...    0.1000   \n",
       "\n",
       "   Subjectivity  Analysis  \n",
       "0        0.7000  Positive  \n",
       "1        0.8325  Positive  \n",
       "2        0.5000  Positive  \n",
       "3        0.5400  Positive  \n",
       "4        0.1000  Positive  "
      ]
     },
     "execution_count": 22,
     "metadata": {},
     "output_type": "execute_result"
    }
   ],
   "source": [
    "positive_tweets.head()"
   ]
  },
  {
   "cell_type": "code",
   "execution_count": 23,
   "metadata": {},
   "outputs": [
    {
     "data": {
      "text/plain": [
       "0    head nurse cai liping of wuchang hospital died...\n",
       "1            how to fight against coronavirus in japan\n",
       "2    indonesian mfa is pressuring japanese authorit...\n",
       "3    someone on nm senate floor just asked if \"coro...\n",
       "4    \"open access epidemiological data from the cov...\n",
       "Name: Text, dtype: object"
      ]
     },
     "execution_count": 23,
     "metadata": {},
     "output_type": "execute_result"
    }
   ],
   "source": [
    "neutral_tweets[\"Text\"].head()"
   ]
  },
  {
   "cell_type": "code",
   "execution_count": 24,
   "metadata": {},
   "outputs": [
    {
     "data": {
      "text/html": [
       "<div>\n",
       "<style scoped>\n",
       "    .dataframe tbody tr th:only-of-type {\n",
       "        vertical-align: middle;\n",
       "    }\n",
       "\n",
       "    .dataframe tbody tr th {\n",
       "        vertical-align: top;\n",
       "    }\n",
       "\n",
       "    .dataframe thead th {\n",
       "        text-align: right;\n",
       "    }\n",
       "</style>\n",
       "<table border=\"1\" class=\"dataframe\">\n",
       "  <thead>\n",
       "    <tr style=\"text-align: right;\">\n",
       "      <th></th>\n",
       "      <th>Date</th>\n",
       "      <th>Text</th>\n",
       "      <th>Month</th>\n",
       "      <th>List of Words</th>\n",
       "      <th>Polarity</th>\n",
       "      <th>Subjectivity</th>\n",
       "      <th>Analysis</th>\n",
       "    </tr>\n",
       "  </thead>\n",
       "  <tbody>\n",
       "    <tr>\n",
       "      <th>0</th>\n",
       "      <td>2020-02-19 23:56:52</td>\n",
       "      <td>for those that are into the business side of s...</td>\n",
       "      <td>February</td>\n",
       "      <td>[business, side, sneakers, adidas, business, r...</td>\n",
       "      <td>-0.126852</td>\n",
       "      <td>0.354630</td>\n",
       "      <td>Negative</td>\n",
       "    </tr>\n",
       "    <tr>\n",
       "      <th>1</th>\n",
       "      <td>2020-02-19 23:50:35</td>\n",
       "      <td>infectivity 60% those who need hospital care 1...</td>\n",
       "      <td>February</td>\n",
       "      <td>[infectivity, 60, need, hospital, care, 15, 2,...</td>\n",
       "      <td>-0.482143</td>\n",
       "      <td>0.628571</td>\n",
       "      <td>Negative</td>\n",
       "    </tr>\n",
       "    <tr>\n",
       "      <th>2</th>\n",
       "      <td>2020-02-19 23:48:44</td>\n",
       "      <td>im rly annoyed with coronavirus racism my frie...</td>\n",
       "      <td>February</td>\n",
       "      <td>[im, rly, annoyed, coronavirus, racism, friend...</td>\n",
       "      <td>-0.104762</td>\n",
       "      <td>0.176190</td>\n",
       "      <td>Negative</td>\n",
       "    </tr>\n",
       "    <tr>\n",
       "      <th>3</th>\n",
       "      <td>2020-02-19 23:47:27</td>\n",
       "      <td>\"one flu is bad enough. a second flu would be ...</td>\n",
       "      <td>February</td>\n",
       "      <td>[``, one, flu, bad, enough, second, flu, would...</td>\n",
       "      <td>-0.201477</td>\n",
       "      <td>0.575455</td>\n",
       "      <td>Negative</td>\n",
       "    </tr>\n",
       "    <tr>\n",
       "      <th>4</th>\n",
       "      <td>2020-02-19 23:41:43</td>\n",
       "      <td>to all the xbots that couldn’t control your fa...</td>\n",
       "      <td>February</td>\n",
       "      <td>[xbots, ’, control, fanboyism, coronavirus, th...</td>\n",
       "      <td>-0.200000</td>\n",
       "      <td>0.800000</td>\n",
       "      <td>Negative</td>\n",
       "    </tr>\n",
       "  </tbody>\n",
       "</table>\n",
       "</div>"
      ],
      "text/plain": [
       "                  Date                                               Text  \\\n",
       "0  2020-02-19 23:56:52  for those that are into the business side of s...   \n",
       "1  2020-02-19 23:50:35  infectivity 60% those who need hospital care 1...   \n",
       "2  2020-02-19 23:48:44  im rly annoyed with coronavirus racism my frie...   \n",
       "3  2020-02-19 23:47:27  \"one flu is bad enough. a second flu would be ...   \n",
       "4  2020-02-19 23:41:43  to all the xbots that couldn’t control your fa...   \n",
       "\n",
       "      Month                                      List of Words  Polarity  \\\n",
       "0  February  [business, side, sneakers, adidas, business, r... -0.126852   \n",
       "1  February  [infectivity, 60, need, hospital, care, 15, 2,... -0.482143   \n",
       "2  February  [im, rly, annoyed, coronavirus, racism, friend... -0.104762   \n",
       "3  February  [``, one, flu, bad, enough, second, flu, would... -0.201477   \n",
       "4  February  [xbots, ’, control, fanboyism, coronavirus, th... -0.200000   \n",
       "\n",
       "   Subjectivity  Analysis  \n",
       "0      0.354630  Negative  \n",
       "1      0.628571  Negative  \n",
       "2      0.176190  Negative  \n",
       "3      0.575455  Negative  \n",
       "4      0.800000  Negative  "
      ]
     },
     "execution_count": 24,
     "metadata": {},
     "output_type": "execute_result"
    }
   ],
   "source": [
    "negative_tweets.head()"
   ]
  },
  {
   "cell_type": "code",
   "execution_count": 25,
   "metadata": {},
   "outputs": [
    {
     "data": {
      "image/png": "[encoded data removed]",
      "text/plain": [
       "<Figure size 432x288 with 1 Axes>"
      ]
     },
     "metadata": {
      "needs_background": "light"
     },
     "output_type": "display_data"
    },
    {
     "data": {
      "image/png": "[encoded data removed]",
      "text/plain": [
       "<Figure size 432x288 with 1 Axes>"
      ]
     },
     "metadata": {
      "needs_background": "light"
     },
     "output_type": "display_data"
    },
    {
     "data": {
      "image/png": "[encoded data removed]",
      "text/plain": [
       "<Figure size 432x288 with 1 Axes>"
      ]
     },
     "metadata": {
      "needs_background": "light"
     },
     "output_type": "display_data"
    }
   ],
   "source": [
    "# Positive Tweets\n",
    "plt.scatter(positive_tweets[\"Polarity\"], positive_tweets[\"Subjectivity\"])\n",
    "\n",
    "plt.title('Sentiment Analysis of Positive Tweets') \n",
    "plt.xlabel('Polarity') \n",
    "plt.ylabel('Subjectivity') \n",
    "plt.show()\n",
    "\n",
    "# Neutral Tweets\n",
    "plt.scatter(neutral_tweets[\"Polarity\"], neutral_tweets[\"Subjectivity\"])\n",
    "\n",
    "plt.title('Sentiment Analysis of Neutral Tweets') \n",
    "plt.xlabel('Polarity') \n",
    "plt.ylabel('Subjectivity') \n",
    "plt.show()\n",
    "\n",
    "# Negative Tweets\n",
    "plt.scatter(negative_tweets[\"Polarity\"], negative_tweets[\"Subjectivity\"])\n",
    "\n",
    "plt.title('Sentiment Analysis of Negative Tweets') \n",
    "plt.xlabel('Polarity') \n",
    "plt.ylabel('Subjectivity')\n",
    "plt.show()"
   ]
  },
  {
   "cell_type": "code",
   "execution_count": 26,
   "metadata": {},
   "outputs": [
    {
     "name": "stdout",
     "output_type": "stream",
     "text": [
      "Positive    3417\n",
      "Neutral     2265\n",
      "Negative    1818\n",
      "Name: Analysis, dtype: int64\n",
      "Total: 7500\n",
      "\n",
      "Percentage of positive Tweets: 0.4556\n",
      "\n",
      "Percentage of neutral Tweets: 0.302\n",
      "\n",
      "Percentage of negative Tweets: 0.2424\n"
     ]
    }
   ],
   "source": [
    "print(data[\"Analysis\"].value_counts())\n",
    "print(\"Total:\", data.shape[0])\n",
    "print()\n",
    "\n",
    "print(\"Percentage of positive Tweets:\", (positive_tweets.shape[0] / data.shape[0]))\n",
    "print()\n",
    "\n",
    "print(\"Percentage of neutral Tweets:\", (neutral_tweets.shape[0] / data.shape[0]))\n",
    "print()\n",
    "\n",
    "print(\"Percentage of negative Tweets:\", (negative_tweets.shape[0] / data.shape[0]))"
   ]
  },
  {
   "cell_type": "code",
   "execution_count": 27,
   "metadata": {},
   "outputs": [
    {
     "data": {
      "image/png": "[encoded data removed]",
      "text/plain": [
       "<Figure size 432x288 with 1 Axes>"
      ]
     },
     "metadata": {
      "needs_background": "light"
     },
     "output_type": "display_data"
    }
   ],
   "source": [
    "plt.title(\"Sentiment Analysis: Full Dataset\")\n",
    "plt.xlabel(\"Sentiment\")\n",
    "plt.ylabel(\"Number of Tweets\")\n",
    "data[\"Analysis\"].value_counts().plot(kind = \"bar\")\n",
    "plt.show()"
   ]
  },
  {
   "cell_type": "code",
   "execution_count": 28,
   "metadata": {},
   "outputs": [
    {
     "data": {
      "image/png": "[encoded data removed]",
      "text/plain": [
       "<Figure size 432x288 with 1 Axes>"
      ]
     },
     "metadata": {
      "needs_background": "light"
     },
     "output_type": "display_data"
    }
   ],
   "source": [
    "plt.title(\"Sentiment Analysis (Percentage): Full Dataset\")\n",
    "plt.xlabel(\"Sentiment\")\n",
    "plt.ylabel(\"Percentage of Total Tweets\")\n",
    "((data[\"Analysis\"].value_counts())/data.shape[0]).plot(kind = \"bar\")\n",
    "plt.show()"
   ]
  },
  {
   "cell_type": "markdown",
   "metadata": {},
   "source": [
    "### Analysis: Monthly"
   ]
  },
  {
   "cell_type": "code",
   "execution_count": 29,
   "metadata": {},
   "outputs": [],
   "source": [
    "months = list(dict.fromkeys(data[\"Month\"].values))\n",
    "sentiments = list(dict.fromkeys(data[\"Analysis\"].values))\n",
    "sentiment_colors = {\"Positive\": \"Blue\", \"Negative\": \"Red\", \"Neutral\": \"Gray\"}"
   ]
  },
  {
   "cell_type": "code",
   "execution_count": 30,
   "metadata": {},
   "outputs": [
    {
     "data": {
      "image/png": "[encoded data removed]",
      "text/plain": [
       "<Figure size 432x288 with 1 Axes>"
      ]
     },
     "metadata": {
      "needs_background": "light"
     },
     "output_type": "display_data"
    },
    {
     "data": {
      "image/png": "[encoded data removed]",
      "text/plain": [
       "<Figure size 432x288 with 1 Axes>"
      ]
     },
     "metadata": {
      "needs_background": "light"
     },
     "output_type": "display_data"
    },
    {
     "data": {
      "image/png": "[encoded data removed]",
      "text/plain": [
       "<Figure size 432x288 with 1 Axes>"
      ]
     },
     "metadata": {
      "needs_background": "light"
     },
     "output_type": "display_data"
    }
   ],
   "source": [
    "for month in months:\n",
    "    month_tweets = data.loc[data[\"Month\"] == month]\n",
    "    plt.title(\"Sentiment Analysis: \" + month)\n",
    "    plt.xlabel(\"Sentiment\")\n",
    "    plt.ylabel(\"Percentage of Total Tweets\")\n",
    "    ((month_tweets[\"Analysis\"].value_counts())/data.shape[0]).plot(kind = 'bar')\n",
    "    plt.show()"
   ]
  },
  {
   "cell_type": "code",
   "execution_count": 31,
   "metadata": {},
   "outputs": [
    {
     "data": {
      "image/png": "[encoded data removed]",
      "text/plain": [
       "<Figure size 432x288 with 1 Axes>"
      ]
     },
     "metadata": {
      "needs_background": "light"
     },
     "output_type": "display_data"
    },
    {
     "data": {
      "image/png": "[encoded data removed]",
      "text/plain": [
       "<Figure size 432x288 with 1 Axes>"
      ]
     },
     "metadata": {
      "needs_background": "light"
     },
     "output_type": "display_data"
    },
    {
     "data": {
      "image/png": "[encoded data removed]",
      "text/plain": [
       "<Figure size 432x288 with 1 Axes>"
      ]
     },
     "metadata": {
      "needs_background": "light"
     },
     "output_type": "display_data"
    }
   ],
   "source": [
    "for sentiment in sentiments:\n",
    "    month_percentages = []\n",
    "    sentiment_tweets = data.loc[data[\"Analysis\"] == sentiment]\n",
    "    plt.title(\"Sentiment Analysis: \" + sentiment)\n",
    "    plt.xlabel(\"Sentiment\")\n",
    "    plt.ylabel(\"Percentage of Total Tweets\")\n",
    "    for month in months:\n",
    "        month_tweets = sentiment_tweets.loc[sentiment_tweets[\"Month\"] == month]\n",
    "        month_percentages.append(month_tweets[\"Analysis\"].value_counts()/data.shape[0])\n",
    "    plt.scatter(months, month_percentages) \n",
    "    plt.show()"
   ]
  },
  {
   "cell_type": "code",
   "execution_count": 32,
   "metadata": {},
   "outputs": [
    {
     "data": {
      "image/png": "[encoded data removed]",
      "text/plain": [
       "<Figure size 432x288 with 1 Axes>"
      ]
     },
     "metadata": {
      "needs_background": "light"
     },
     "output_type": "display_data"
    }
   ],
   "source": [
    "plt.title(\"Sentiment Analysis\")\n",
    "plt.xlabel(\"Sentiment\")\n",
    "plt.ylabel(\"Percentage of Total Tweets\")\n",
    "    \n",
    "for sentiment in sentiments:\n",
    "    month_percentages = []\n",
    "    sentiment_tweets = data.loc[data[\"Analysis\"] == sentiment]\n",
    "    for month in months:\n",
    "        month_tweets = sentiment_tweets.loc[sentiment_tweets[\"Month\"] == month]\n",
    "        month_percentages.append(month_tweets[\"Analysis\"].value_counts()/data.shape[0])\n",
    "    plt.scatter(months, month_percentages, c = sentiment_colors[sentiment]) \n",
    "    plt.plot(months, month_percentages, c = sentiment_colors[sentiment])\n",
    "plt.show()"
   ]
  },
  {
   "cell_type": "markdown",
   "metadata": {},
   "source": [
    "## Naive Bayes Classification"
   ]
  },
  {
   "cell_type": "markdown",
   "metadata": {},
   "source": [
    "### Training the model"
   ]
  },
  {
   "cell_type": "code",
   "execution_count": 33,
   "metadata": {},
   "outputs": [],
   "source": [
    "corpus = pd.read_csv(\"Data/full_corpus.csv\")\n",
    "\n",
    "corpus[\"TweetText\"] = corpus[\"TweetText\"].apply(cleanText)\n",
    "corpus[\"List of Words\"] = corpus[\"TweetText\"].apply(convertToList)"
   ]
  },
  {
   "cell_type": "code",
   "execution_count": 34,
   "metadata": {},
   "outputs": [
    {
     "data": {
      "text/html": [
       "<div>\n",
       "<style scoped>\n",
       "    .dataframe tbody tr th:only-of-type {\n",
       "        vertical-align: middle;\n",
       "    }\n",
       "\n",
       "    .dataframe tbody tr th {\n",
       "        vertical-align: top;\n",
       "    }\n",
       "\n",
       "    .dataframe thead th {\n",
       "        text-align: right;\n",
       "    }\n",
       "</style>\n",
       "<table border=\"1\" class=\"dataframe\">\n",
       "  <thead>\n",
       "    <tr style=\"text-align: right;\">\n",
       "      <th></th>\n",
       "      <th>Topic</th>\n",
       "      <th>Sentiment</th>\n",
       "      <th>TweetId</th>\n",
       "      <th>TweetDate</th>\n",
       "      <th>TweetText</th>\n",
       "      <th>List of Words</th>\n",
       "    </tr>\n",
       "  </thead>\n",
       "  <tbody>\n",
       "    <tr>\n",
       "      <th>0</th>\n",
       "      <td>apple</td>\n",
       "      <td>positive</td>\n",
       "      <td>126415614616154112</td>\n",
       "      <td>Tue Oct 18 21:53:25 +0000 2011</td>\n",
       "      <td>now all  has to do is get swype on the iphone ...</td>\n",
       "      <td>[get, swype, iphone, crack, iphone]</td>\n",
       "    </tr>\n",
       "    <tr>\n",
       "      <th>1</th>\n",
       "      <td>apple</td>\n",
       "      <td>positive</td>\n",
       "      <td>126404574230740992</td>\n",
       "      <td>Tue Oct 18 21:09:33 +0000 2011</td>\n",
       "      <td>will be adding more carrier support to the ip...</td>\n",
       "      <td>[adding, carrier, support, iphone, 4s, announced]</td>\n",
       "    </tr>\n",
       "    <tr>\n",
       "      <th>2</th>\n",
       "      <td>apple</td>\n",
       "      <td>positive</td>\n",
       "      <td>126402758403305474</td>\n",
       "      <td>Tue Oct 18 21:02:20 +0000 2011</td>\n",
       "      <td>hilarious  video - guy does a duet with  's si...</td>\n",
       "      <td>[hilarious, video, guy, duet, 's, siri, pretty...</td>\n",
       "    </tr>\n",
       "    <tr>\n",
       "      <th>3</th>\n",
       "      <td>apple</td>\n",
       "      <td>positive</td>\n",
       "      <td>126397179614068736</td>\n",
       "      <td>Tue Oct 18 20:40:10 +0000 2011</td>\n",
       "      <td>you made it too easy for me to switch to  iph...</td>\n",
       "      <td>[made, easy, switch, iphone, see, ya]</td>\n",
       "    </tr>\n",
       "    <tr>\n",
       "      <th>4</th>\n",
       "      <td>apple</td>\n",
       "      <td>positive</td>\n",
       "      <td>126395626979196928</td>\n",
       "      <td>Tue Oct 18 20:34:00 +0000 2011</td>\n",
       "      <td>i just realized that the reason i got into twi...</td>\n",
       "      <td>[realized, reason, got, twitter, ios5, thanks]</td>\n",
       "    </tr>\n",
       "  </tbody>\n",
       "</table>\n",
       "</div>"
      ],
      "text/plain": [
       "   Topic Sentiment             TweetId                       TweetDate  \\\n",
       "0  apple  positive  126415614616154112  Tue Oct 18 21:53:25 +0000 2011   \n",
       "1  apple  positive  126404574230740992  Tue Oct 18 21:09:33 +0000 2011   \n",
       "2  apple  positive  126402758403305474  Tue Oct 18 21:02:20 +0000 2011   \n",
       "3  apple  positive  126397179614068736  Tue Oct 18 20:40:10 +0000 2011   \n",
       "4  apple  positive  126395626979196928  Tue Oct 18 20:34:00 +0000 2011   \n",
       "\n",
       "                                           TweetText  \\\n",
       "0  now all  has to do is get swype on the iphone ...   \n",
       "1   will be adding more carrier support to the ip...   \n",
       "2  hilarious  video - guy does a duet with  's si...   \n",
       "3   you made it too easy for me to switch to  iph...   \n",
       "4  i just realized that the reason i got into twi...   \n",
       "\n",
       "                                       List of Words  \n",
       "0                [get, swype, iphone, crack, iphone]  \n",
       "1  [adding, carrier, support, iphone, 4s, announced]  \n",
       "2  [hilarious, video, guy, duet, 's, siri, pretty...  \n",
       "3              [made, easy, switch, iphone, see, ya]  \n",
       "4     [realized, reason, got, twitter, ios5, thanks]  "
      ]
     },
     "execution_count": 34,
     "metadata": {},
     "output_type": "execute_result"
    }
   ],
   "source": [
    "corpus.head()"
   ]
  },
  {
   "cell_type": "code",
   "execution_count": 35,
   "metadata": {},
   "outputs": [
    {
     "name": "stdout",
     "output_type": "stream",
     "text": [
      "(5113, 6)\n",
      "(4090, 6)\n",
      "(1023, 6)\n"
     ]
    }
   ],
   "source": [
    "training_data, testing_data = train_test_split(corpus, test_size = 0.2)\n",
    "\n",
    "print(corpus.shape)\n",
    "print(training_data.shape)\n",
    "print(testing_data.shape)"
   ]
  },
  {
   "cell_type": "code",
   "execution_count": 36,
   "metadata": {},
   "outputs": [],
   "source": [
    "training_data_list = []\n",
    "for index, row in training_data.iterrows():\n",
    "    training_data_list.append((row[\"TweetText\"], row[\"Sentiment\"]))\n",
    "\n",
    "testing_data_list = []\n",
    "for index, row in testing_data.iterrows():\n",
    "    testing_data_list.append((row[\"TweetText\"], row[\"Sentiment\"]))"
   ]
  },
  {
   "cell_type": "code",
   "execution_count": 37,
   "metadata": {},
   "outputs": [],
   "source": [
    "# This function was adapted from https://towardsdatascience.com/creating-the-twitter-sentiment-analysis-program-in-python-with-naive-bayes-classification-672e5589a7ed\n",
    "# (The resource above is open source).\n",
    "def build(data):\n",
    "    world_list = []\n",
    "    \n",
    "    for (words, sentiment) in data:\n",
    "        world_list.extend(words)\n",
    "\n",
    "    words = nltk.FreqDist(world_list)\n",
    "    word_features = words.keys()\n",
    "    \n",
    "    return word_features"
   ]
  },
  {
   "cell_type": "code",
   "execution_count": 38,
   "metadata": {},
   "outputs": [],
   "source": [
    "# This function was adapted from https://towardsdatascience.com/creating-the-twitter-sentiment-analysis-program-in-python-with-naive-bayes-classification-672e5589a7ed\n",
    "# (The resource above is open source).\n",
    "def get_features(text):\n",
    "    words = set(text)\n",
    "    features = {}\n",
    "    \n",
    "    for word in word_features:\n",
    "        features['contains(%s)' % word] = (word in words)\n",
    "        \n",
    "    return features "
   ]
  },
  {
   "cell_type": "code",
   "execution_count": 39,
   "metadata": {},
   "outputs": [],
   "source": [
    "word_features = build(training_data_list)\n",
    "training_features=nltk.classify.apply_features(get_features, training_data_list)"
   ]
  },
  {
   "cell_type": "code",
   "execution_count": 40,
   "metadata": {},
   "outputs": [],
   "source": [
    "NBayesClassifier = nltk.NaiveBayesClassifier.train(training_features)"
   ]
  },
  {
   "cell_type": "code",
   "execution_count": 41,
   "metadata": {},
   "outputs": [],
   "source": [
    "# This piece of code was suggested in https://towardsdatascience.com/creating-the-twitter-sentiment-analysis-program-in-python-with-naive-bayes-classification-672e5589a7ed\n",
    "NBResultLabels = [NBayesClassifier.classify(get_features(tweet[0])) for tweet in testing_data_list]\n"
   ]
  },
  {
   "cell_type": "code",
   "execution_count": 42,
   "metadata": {},
   "outputs": [
    {
     "name": "stdout",
     "output_type": "stream",
     "text": [
      "Percentage of Positive Sentiments: 0.013685239491691105\n",
      "\n",
      "Percentage of Negative Sentiments: 0.05865102639296188\n"
     ]
    }
   ],
   "source": [
    "print(\"Percentage of Positive Sentiments:\", NBResultLabels.count('positive') / testing_data.shape[0])\n",
    "print()\n",
    "print(\"Percentage of Negative Sentiments:\", NBResultLabels.count('negative') / testing_data.shape[0])\n"
   ]
  },
  {
   "cell_type": "markdown",
   "metadata": {},
   "source": [
    "### Applying the Model to Covid-19 Twitter Data"
   ]
  },
  {
   "cell_type": "code",
   "execution_count": 43,
   "metadata": {},
   "outputs": [],
   "source": [
    "training_data, testing_data = train_test_split(data, test_size = 0.2)"
   ]
  },
  {
   "cell_type": "code",
   "execution_count": 44,
   "metadata": {},
   "outputs": [
    {
     "name": "stdout",
     "output_type": "stream",
     "text": [
      "(7500, 7)\n",
      "(6000, 7)\n",
      "(1500, 7)\n"
     ]
    }
   ],
   "source": [
    "print(data.shape)\n",
    "print(training_data.shape)\n",
    "print(testing_data.shape)"
   ]
  },
  {
   "cell_type": "code",
   "execution_count": 45,
   "metadata": {},
   "outputs": [],
   "source": [
    "word_features = build(training_data_list)\n",
    "training_features=nltk.classify.apply_features(get_features, training_data_list)"
   ]
  },
  {
   "cell_type": "code",
   "execution_count": 46,
   "metadata": {},
   "outputs": [],
   "source": [
    "NBayesClassifier = nltk.NaiveBayesClassifier.train(training_features)"
   ]
  },
  {
   "cell_type": "code",
   "execution_count": 47,
   "metadata": {},
   "outputs": [],
   "source": [
    "# This piece of code was suggested in https://towardsdatascience.com/creating-the-twitter-sentiment-analysis-program-in-python-with-naive-bayes-classification-672e5589a7ed\n",
    "NBResultLabels = [NBayesClassifier.classify(get_features(tweet[0])) for tweet in testing_data_list]"
   ]
  },
  {
   "cell_type": "code",
   "execution_count": 48,
   "metadata": {},
   "outputs": [
    {
     "name": "stdout",
     "output_type": "stream",
     "text": [
      "Percentage of Positive Sentiments: 0.009333333333333334\n",
      "\n",
      "Percentage of Negative Sentiments: 0.04\n"
     ]
    }
   ],
   "source": [
    "print(\"Percentage of Positive Sentiments:\", NBResultLabels.count('positive') / testing_data.shape[0])\n",
    "print()\n",
    "print(\"Percentage of Negative Sentiments:\", NBResultLabels.count('negative') / testing_data.shape[0])"
   ]
  },
  {
   "cell_type": "markdown",
   "metadata": {},
   "source": [
    "## Moving Forward..."
   ]
  },
  {
   "cell_type": "markdown",
   "metadata": {},
   "source": [
    "I plan to continue using this model to investigate how the positive/negative sentiment in Tweets changes over time and whether this has any correlation to the number of cases/deaths in the US."
   ]
  }
 ],
 "metadata": {
  "kernelspec": {
   "display_name": "Python 3",
   "language": "python",
   "name": "python3"
  },
  "language_info": {
   "codemirror_mode": {
    "name": "ipython",
    "version": 3
   },
   "file_extension": ".py",
   "mimetype": "text/x-python",
   "name": "python",
   "nbconvert_exporter": "python",
   "pygments_lexer": "ipython3",
   "version": "3.7.6"
  }
 },
 "nbformat": 4,
 "nbformat_minor": 2
}
